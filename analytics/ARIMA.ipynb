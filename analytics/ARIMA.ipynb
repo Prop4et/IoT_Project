{
 "cells": [
  {
   "cell_type": "code",
   "execution_count": null,
   "metadata": {},
   "outputs": [],
   "source": [
    "%pip install pandas\n",
    "%pip install influxdb_client\n",
    "%pip install cmdstanpy==0.9.68\n",
    "%pip install pystan==2.19.1.1\n",
    "%pip install seaborn\n",
    "%pip install prophet"
   ]
  },
  {
   "cell_type": "markdown",
   "metadata": {},
   "source": [
    "### Get data from influx db\n",
    "based on https://github.com/influxdata/influxdb-client-python/blob/master/examples/"
   ]
  },
  {
   "cell_type": "code",
   "execution_count": null,
   "metadata": {},
   "outputs": [],
   "source": [
    "import os\n",
    "import pandas as pd\n",
    "import numpy as np\n",
    "import seaborn as sns\n",
    "import matplotlib.pyplot as plt\n",
    "import json"
   ]
  },
  {
   "cell_type": "code",
   "execution_count": null,
   "metadata": {},
   "outputs": [],
   "source": [
    "from influxdb_client import InfluxDBClient, Point\n",
    "from influxdb_client.client.write_api import SYNCHRONOUS\n",
    "#read influx info from config file\n",
    "\n",
    "with open('../server/influxconfig.json', 'r') as fd:\n",
    "    config = json.load(fd)\n",
    "\n",
    "#need to edit the query cause idk what i have to predict on\n",
    "\n",
    "#from(bucket: \"temp\")\n",
    "#    |> range(start: -24h)\n",
    "#    |> filter(fn: (r) => r._measurement == \"val\" and r._field == \"value\" and r._value > -300 and r.sensor == string(v: ${Sensor_id}))\n",
    "\n",
    "\n",
    "query_temp = 'from(bucket:\"temp\")' \\\n",
    "        ' |> range(start:2007-12-10T15:00:00Z, stop:2016-01-20T15:00:00Z)'\\\n",
    "        ' |> filter(fn: (r) => r._measurement == \"views\")' \\\n",
    "        ' |> filter(fn: (r) => r._field == \"y\")'\n",
    "\n",
    "client =  InfluxDBClient(url='http://'+config.host+':'+config.port, token=config.token, org=config.org, debug=False)\n",
    "write_api = client.write_api(write_options=SYNCHRONOUS)\n",
    "query_api = client.query_api()  \n",
    "result = query_api.query(query_temp)"
   ]
  },
  {
   "cell_type": "code",
   "execution_count": null,
   "metadata": {},
   "outputs": [],
   "source": [
    "for table in result:\n",
    "    print(table)\n",
    "    for record in table.records:\n",
    "        print(record)\n",
    "#i should be querying now, so this part will be done as soon as i get home"
   ]
  },
  {
   "cell_type": "code",
   "execution_count": null,
   "metadata": {},
   "outputs": [],
   "source": [
    "#build the dataframe with the data needed for the algorithm, when you have fields\n",
    "#ideally df['Time'], df['v']"
   ]
  },
  {
   "cell_type": "code",
   "execution_count": null,
   "metadata": {},
   "outputs": [],
   "source": [
    "values = df['temp']\n",
    "values.index = df['time']\n",
    "values.plot(sublots=True)"
   ]
  },
  {
   "cell_type": "code",
   "execution_count": null,
   "metadata": {},
   "outputs": [],
   "source": [
    "###stationary test\n",
    "from statsmodels.tsa.stattools import adfuller\n",
    "#split dataset\n",
    "l = len(df.values)\n",
    "cut = int(l*.8)\n",
    "train = df[:cut]\n",
    "test = df[cut:]\n",
    "res = adfuller(df)\n",
    "print('ADF val: ', res[0], 'p-value:', res[1])"
   ]
  },
  {
   "cell_type": "code",
   "execution_count": null,
   "metadata": {},
   "outputs": [],
   "source": [
    "#if p-val < 0.05 then series is stationary and it's impossible to use autoregression models\n",
    "#so i have to differentiate\n",
    "train_diff = train.diff().dropna()\n",
    "res = adfuller(train_diff)\n",
    "print('ADF val: ', res[0], 'p-value:', res[1])\n"
   ]
  },
  {
   "cell_type": "code",
   "execution_count": null,
   "metadata": {},
   "outputs": [],
   "source": [
    "#plot with points to see what is the stationary point as in the slides\n",
    "#autocorrelation  -> find  that is the highest with the minimal difference from the deviation(?) \n",
    "from statsmodels.graphics import tsaplots\n",
    "fig = tsaplots.plot_acf(train_diff, lags=10)\n",
    "plt.show()"
   ]
  },
  {
   "cell_type": "code",
   "execution_count": null,
   "metadata": {},
   "outputs": [],
   "source": [
    "#partial autocorrelation -> find q that is the highest with the minimal difference from the deviation(?) \n",
    "fig = tsaplots.plot_pacf(train_diff, lags=10)\n",
    "plt.show()"
   ]
  },
  {
   "cell_type": "code",
   "execution_count": null,
   "metadata": {},
   "outputs": [],
   "source": [
    "#once you have both p and q it is possibile to apply the ARIMA model\n",
    "from statsmodels.tsa.arima_model import ARIMA\n",
    "history = [x for x in train]\n",
    "predictions = list()\n",
    "print(test)\n",
    "for t in test.index:\n",
    "  model = ARIMA(history, order=(p,q,d)) #d is the number of time that the raw values are differentiated\n",
    "  model_fit = model.fit()\n",
    "  output = model_fit.forecast()\n",
    "  yest = output[0]\n",
    "  predictions.append(yest)\n",
    "  obs= test[t]\n",
    "  history.append(obs)\n",
    "  print ('predicted=%f, expected=%f' % (yest, obs))"
   ]
  },
  {
   "cell_type": "code",
   "execution_count": null,
   "metadata": {},
   "outputs": [],
   "source": [
    "#plt\n",
    "import math\n",
    "from sklearn.metrics import mean_squared_error\n",
    "\n",
    "rmse = math.sqrt(mean_squared_error(test, predictions))\n",
    "print('Test RMSE: %.3f'% rmse)\n",
    "\n",
    "df2 = pd. DataFrame (predictions)\n",
    "df2. set_index(test.index, inplace=True)\n",
    "plt.plot(test)\n",
    "plt.plot(df2, color='red')\n",
    "plt.show( )"
   ]
  },
  {
   "cell_type": "code",
   "execution_count": null,
   "metadata": {},
   "outputs": [],
   "source": []
  }
 ],
 "metadata": {
  "interpreter": {
   "hash": "31f2aee4e71d21fbe5cf8b01ff0e069b9275f58929596ceb00d14d90e3e16cd6"
  },
  "kernelspec": {
   "display_name": "Python 3.8.10 64-bit",
   "language": "python",
   "name": "python3"
  },
  "language_info": {
   "codemirror_mode": {
    "name": "ipython",
    "version": 3
   },
   "file_extension": ".py",
   "mimetype": "text/x-python",
   "name": "python",
   "nbconvert_exporter": "python",
   "pygments_lexer": "ipython3",
   "version": "3.8.10"
  },
  "orig_nbformat": 4
 },
 "nbformat": 4,
 "nbformat_minor": 2
}
