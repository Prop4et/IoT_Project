{
 "cells": [
  {
   "cell_type": "code",
   "execution_count": null,
   "metadata": {},
   "outputs": [],
   "source": [
    "%pip install pandas\n",
    "%pip install influxdb_client\n",
    "%pip install cmdstanpy==0.9.68\n",
    "%pip install pystan==2.19.1.1\n",
    "%pip install seaborn\n",
    "%pip install prophet"
   ]
  },
  {
   "cell_type": "markdown",
   "metadata": {},
   "source": [
    "### Get data from influx db\n",
    "based on https://github.com/influxdata/influxdb-client-python/blob/master/examples/"
   ]
  },
  {
   "cell_type": "code",
   "execution_count": 2,
   "metadata": {},
   "outputs": [],
   "source": [
    "import os\n",
    "import pandas as pd\n",
    "import numpy as np\n",
    "import seaborn as sns\n",
    "import matplotlib.pyplot as plt\n",
    "import json"
   ]
  },
  {
   "cell_type": "code",
   "execution_count": 19,
   "metadata": {},
   "outputs": [],
   "source": [
    "from influxdb_client import InfluxDBClient\n",
    "from influxdb_client.client.write_api import SYNCHRONOUS\n",
    "#read influx info from config file\n",
    "\n",
    "fd =  open('../server/influxconfig.json', 'r')\n",
    "config = json.load(fd)\n",
    "query_temp = 'from(bucket:\"temp\")' \\\n",
    "        ' |> range(start:-6h)'\\\n",
    "        ' |> filter(fn: (r) => r._measurement == \"val\" and r._field == \"value\" and r._value > -300)'\n",
    "client =  InfluxDBClient(url='http://'+config[\"remotehost\"]+':'+config[\"port\"], token=config[\"token\"], org=config[\"org\"], debug=False)\n",
    "write_api = client.write_api(write_options=SYNCHRONOUS)\n",
    "query_api = client.query_api()  \n",
    "result = query_api.query_data_frame(query_temp)\n",
    "\n",
    "fd.close()"
   ]
  },
  {
   "cell_type": "code",
   "execution_count": 20,
   "metadata": {},
   "outputs": [
    {
     "data": {
      "text/html": [
       "<div>\n",
       "<style scoped>\n",
       "    .dataframe tbody tr th:only-of-type {\n",
       "        vertical-align: middle;\n",
       "    }\n",
       "\n",
       "    .dataframe tbody tr th {\n",
       "        vertical-align: top;\n",
       "    }\n",
       "\n",
       "    .dataframe thead th {\n",
       "        text-align: right;\n",
       "    }\n",
       "</style>\n",
       "<table border=\"1\" class=\"dataframe\">\n",
       "  <thead>\n",
       "    <tr style=\"text-align: right;\">\n",
       "      <th></th>\n",
       "      <th>result</th>\n",
       "      <th>table</th>\n",
       "      <th>_start</th>\n",
       "      <th>_stop</th>\n",
       "      <th>_time</th>\n",
       "      <th>_value</th>\n",
       "      <th>_field</th>\n",
       "      <th>_measurement</th>\n",
       "      <th>lat</th>\n",
       "      <th>lon</th>\n",
       "      <th>sensor</th>\n",
       "    </tr>\n",
       "  </thead>\n",
       "  <tbody>\n",
       "    <tr>\n",
       "      <th>0</th>\n",
       "      <td>_result</td>\n",
       "      <td>0</td>\n",
       "      <td>2022-06-06 16:55:59.142926+00:00</td>\n",
       "      <td>2022-06-06 22:55:59.142926+00:00</td>\n",
       "      <td>2022-06-06 16:55:59.477179+00:00</td>\n",
       "      <td>29.299999</td>\n",
       "      <td>value</td>\n",
       "      <td>val</td>\n",
       "      <td>44.50</td>\n",
       "      <td>11.35</td>\n",
       "      <td>0</td>\n",
       "    </tr>\n",
       "    <tr>\n",
       "      <th>1</th>\n",
       "      <td>_result</td>\n",
       "      <td>0</td>\n",
       "      <td>2022-06-06 16:55:59.142926+00:00</td>\n",
       "      <td>2022-06-06 22:55:59.142926+00:00</td>\n",
       "      <td>2022-06-06 16:56:09.519399+00:00</td>\n",
       "      <td>29.299999</td>\n",
       "      <td>value</td>\n",
       "      <td>val</td>\n",
       "      <td>44.50</td>\n",
       "      <td>11.35</td>\n",
       "      <td>0</td>\n",
       "    </tr>\n",
       "    <tr>\n",
       "      <th>2</th>\n",
       "      <td>_result</td>\n",
       "      <td>0</td>\n",
       "      <td>2022-06-06 16:55:59.142926+00:00</td>\n",
       "      <td>2022-06-06 22:55:59.142926+00:00</td>\n",
       "      <td>2022-06-06 16:56:19.554361+00:00</td>\n",
       "      <td>29.299999</td>\n",
       "      <td>value</td>\n",
       "      <td>val</td>\n",
       "      <td>44.50</td>\n",
       "      <td>11.35</td>\n",
       "      <td>0</td>\n",
       "    </tr>\n",
       "    <tr>\n",
       "      <th>3</th>\n",
       "      <td>_result</td>\n",
       "      <td>0</td>\n",
       "      <td>2022-06-06 16:55:59.142926+00:00</td>\n",
       "      <td>2022-06-06 22:55:59.142926+00:00</td>\n",
       "      <td>2022-06-06 16:56:29.479986+00:00</td>\n",
       "      <td>29.299999</td>\n",
       "      <td>value</td>\n",
       "      <td>val</td>\n",
       "      <td>44.50</td>\n",
       "      <td>11.35</td>\n",
       "      <td>0</td>\n",
       "    </tr>\n",
       "    <tr>\n",
       "      <th>4</th>\n",
       "      <td>_result</td>\n",
       "      <td>0</td>\n",
       "      <td>2022-06-06 16:55:59.142926+00:00</td>\n",
       "      <td>2022-06-06 22:55:59.142926+00:00</td>\n",
       "      <td>2022-06-06 16:56:39.617983+00:00</td>\n",
       "      <td>29.299999</td>\n",
       "      <td>value</td>\n",
       "      <td>val</td>\n",
       "      <td>44.50</td>\n",
       "      <td>11.35</td>\n",
       "      <td>0</td>\n",
       "    </tr>\n",
       "    <tr>\n",
       "      <th>...</th>\n",
       "      <td>...</td>\n",
       "      <td>...</td>\n",
       "      <td>...</td>\n",
       "      <td>...</td>\n",
       "      <td>...</td>\n",
       "      <td>...</td>\n",
       "      <td>...</td>\n",
       "      <td>...</td>\n",
       "      <td>...</td>\n",
       "      <td>...</td>\n",
       "      <td>...</td>\n",
       "    </tr>\n",
       "    <tr>\n",
       "      <th>2155</th>\n",
       "      <td>_result</td>\n",
       "      <td>0</td>\n",
       "      <td>2022-06-06 16:55:59.142926+00:00</td>\n",
       "      <td>2022-06-06 22:55:59.142926+00:00</td>\n",
       "      <td>2022-06-06 22:55:11.228668+00:00</td>\n",
       "      <td>27.700001</td>\n",
       "      <td>value</td>\n",
       "      <td>val</td>\n",
       "      <td>44.50</td>\n",
       "      <td>11.35</td>\n",
       "      <td>0</td>\n",
       "    </tr>\n",
       "    <tr>\n",
       "      <th>2156</th>\n",
       "      <td>_result</td>\n",
       "      <td>0</td>\n",
       "      <td>2022-06-06 16:55:59.142926+00:00</td>\n",
       "      <td>2022-06-06 22:55:59.142926+00:00</td>\n",
       "      <td>2022-06-06 22:55:21.263850+00:00</td>\n",
       "      <td>27.799999</td>\n",
       "      <td>value</td>\n",
       "      <td>val</td>\n",
       "      <td>44.50</td>\n",
       "      <td>11.35</td>\n",
       "      <td>0</td>\n",
       "    </tr>\n",
       "    <tr>\n",
       "      <th>2157</th>\n",
       "      <td>_result</td>\n",
       "      <td>0</td>\n",
       "      <td>2022-06-06 16:55:59.142926+00:00</td>\n",
       "      <td>2022-06-06 22:55:59.142926+00:00</td>\n",
       "      <td>2022-06-06 22:55:31.196220+00:00</td>\n",
       "      <td>27.799999</td>\n",
       "      <td>value</td>\n",
       "      <td>val</td>\n",
       "      <td>44.50</td>\n",
       "      <td>11.35</td>\n",
       "      <td>0</td>\n",
       "    </tr>\n",
       "    <tr>\n",
       "      <th>2158</th>\n",
       "      <td>_result</td>\n",
       "      <td>0</td>\n",
       "      <td>2022-06-06 16:55:59.142926+00:00</td>\n",
       "      <td>2022-06-06 22:55:59.142926+00:00</td>\n",
       "      <td>2022-06-06 22:55:41.436786+00:00</td>\n",
       "      <td>27.799999</td>\n",
       "      <td>value</td>\n",
       "      <td>val</td>\n",
       "      <td>44.50</td>\n",
       "      <td>11.35</td>\n",
       "      <td>0</td>\n",
       "    </tr>\n",
       "    <tr>\n",
       "      <th>2159</th>\n",
       "      <td>_result</td>\n",
       "      <td>0</td>\n",
       "      <td>2022-06-06 16:55:59.142926+00:00</td>\n",
       "      <td>2022-06-06 22:55:59.142926+00:00</td>\n",
       "      <td>2022-06-06 22:55:51.267471+00:00</td>\n",
       "      <td>27.799999</td>\n",
       "      <td>value</td>\n",
       "      <td>val</td>\n",
       "      <td>44.50</td>\n",
       "      <td>11.35</td>\n",
       "      <td>0</td>\n",
       "    </tr>\n",
       "  </tbody>\n",
       "</table>\n",
       "<p>2160 rows × 11 columns</p>\n",
       "</div>"
      ],
      "text/plain": [
       "       result  table                           _start  \\\n",
       "0     _result      0 2022-06-06 16:55:59.142926+00:00   \n",
       "1     _result      0 2022-06-06 16:55:59.142926+00:00   \n",
       "2     _result      0 2022-06-06 16:55:59.142926+00:00   \n",
       "3     _result      0 2022-06-06 16:55:59.142926+00:00   \n",
       "4     _result      0 2022-06-06 16:55:59.142926+00:00   \n",
       "...       ...    ...                              ...   \n",
       "2155  _result      0 2022-06-06 16:55:59.142926+00:00   \n",
       "2156  _result      0 2022-06-06 16:55:59.142926+00:00   \n",
       "2157  _result      0 2022-06-06 16:55:59.142926+00:00   \n",
       "2158  _result      0 2022-06-06 16:55:59.142926+00:00   \n",
       "2159  _result      0 2022-06-06 16:55:59.142926+00:00   \n",
       "\n",
       "                                _stop                            _time  \\\n",
       "0    2022-06-06 22:55:59.142926+00:00 2022-06-06 16:55:59.477179+00:00   \n",
       "1    2022-06-06 22:55:59.142926+00:00 2022-06-06 16:56:09.519399+00:00   \n",
       "2    2022-06-06 22:55:59.142926+00:00 2022-06-06 16:56:19.554361+00:00   \n",
       "3    2022-06-06 22:55:59.142926+00:00 2022-06-06 16:56:29.479986+00:00   \n",
       "4    2022-06-06 22:55:59.142926+00:00 2022-06-06 16:56:39.617983+00:00   \n",
       "...                               ...                              ...   \n",
       "2155 2022-06-06 22:55:59.142926+00:00 2022-06-06 22:55:11.228668+00:00   \n",
       "2156 2022-06-06 22:55:59.142926+00:00 2022-06-06 22:55:21.263850+00:00   \n",
       "2157 2022-06-06 22:55:59.142926+00:00 2022-06-06 22:55:31.196220+00:00   \n",
       "2158 2022-06-06 22:55:59.142926+00:00 2022-06-06 22:55:41.436786+00:00   \n",
       "2159 2022-06-06 22:55:59.142926+00:00 2022-06-06 22:55:51.267471+00:00   \n",
       "\n",
       "         _value _field _measurement    lat    lon sensor  \n",
       "0     29.299999  value          val  44.50  11.35      0  \n",
       "1     29.299999  value          val  44.50  11.35      0  \n",
       "2     29.299999  value          val  44.50  11.35      0  \n",
       "3     29.299999  value          val  44.50  11.35      0  \n",
       "4     29.299999  value          val  44.50  11.35      0  \n",
       "...         ...    ...          ...    ...    ...    ...  \n",
       "2155  27.700001  value          val  44.50  11.35      0  \n",
       "2156  27.799999  value          val  44.50  11.35      0  \n",
       "2157  27.799999  value          val  44.50  11.35      0  \n",
       "2158  27.799999  value          val  44.50  11.35      0  \n",
       "2159  27.799999  value          val  44.50  11.35      0  \n",
       "\n",
       "[2160 rows x 11 columns]"
      ]
     },
     "execution_count": 20,
     "metadata": {},
     "output_type": "execute_result"
    }
   ],
   "source": [
    "result"
   ]
  },
  {
   "cell_type": "code",
   "execution_count": 21,
   "metadata": {},
   "outputs": [],
   "source": [
    "df = result.drop(columns=['result', 'table', '_start', '_stop', '_field', '_measurement'])"
   ]
  },
  {
   "cell_type": "code",
   "execution_count": 22,
   "metadata": {},
   "outputs": [],
   "source": [
    "df_clean = df.copy()\n",
    "df_clean = df_clean.loc[df_clean['sensor'] == '0']\n",
    "df_clean = df_clean.drop(columns=['lat', 'lon', 'sensor'])\n",
    "df_clean = df_clean.rename(columns = {'_time': 'Time', '_value': 'Temp'})\n",
    "df_clean['Time'] = df_clean['Time'].dt.strftime('%d-%m-%Y %H:%M:%S')"
   ]
  },
  {
   "cell_type": "code",
   "execution_count": 23,
   "metadata": {},
   "outputs": [
    {
     "data": {
      "text/html": [
       "<div>\n",
       "<style scoped>\n",
       "    .dataframe tbody tr th:only-of-type {\n",
       "        vertical-align: middle;\n",
       "    }\n",
       "\n",
       "    .dataframe tbody tr th {\n",
       "        vertical-align: top;\n",
       "    }\n",
       "\n",
       "    .dataframe thead th {\n",
       "        text-align: right;\n",
       "    }\n",
       "</style>\n",
       "<table border=\"1\" class=\"dataframe\">\n",
       "  <thead>\n",
       "    <tr style=\"text-align: right;\">\n",
       "      <th></th>\n",
       "      <th>Time</th>\n",
       "      <th>Temp</th>\n",
       "    </tr>\n",
       "  </thead>\n",
       "  <tbody>\n",
       "    <tr>\n",
       "      <th>0</th>\n",
       "      <td>06-06-2022 16:55:59</td>\n",
       "      <td>29.299999</td>\n",
       "    </tr>\n",
       "    <tr>\n",
       "      <th>1</th>\n",
       "      <td>06-06-2022 16:56:09</td>\n",
       "      <td>29.299999</td>\n",
       "    </tr>\n",
       "    <tr>\n",
       "      <th>2</th>\n",
       "      <td>06-06-2022 16:56:19</td>\n",
       "      <td>29.299999</td>\n",
       "    </tr>\n",
       "    <tr>\n",
       "      <th>3</th>\n",
       "      <td>06-06-2022 16:56:29</td>\n",
       "      <td>29.299999</td>\n",
       "    </tr>\n",
       "    <tr>\n",
       "      <th>4</th>\n",
       "      <td>06-06-2022 16:56:39</td>\n",
       "      <td>29.299999</td>\n",
       "    </tr>\n",
       "    <tr>\n",
       "      <th>...</th>\n",
       "      <td>...</td>\n",
       "      <td>...</td>\n",
       "    </tr>\n",
       "    <tr>\n",
       "      <th>2155</th>\n",
       "      <td>06-06-2022 22:55:11</td>\n",
       "      <td>27.700001</td>\n",
       "    </tr>\n",
       "    <tr>\n",
       "      <th>2156</th>\n",
       "      <td>06-06-2022 22:55:21</td>\n",
       "      <td>27.799999</td>\n",
       "    </tr>\n",
       "    <tr>\n",
       "      <th>2157</th>\n",
       "      <td>06-06-2022 22:55:31</td>\n",
       "      <td>27.799999</td>\n",
       "    </tr>\n",
       "    <tr>\n",
       "      <th>2158</th>\n",
       "      <td>06-06-2022 22:55:41</td>\n",
       "      <td>27.799999</td>\n",
       "    </tr>\n",
       "    <tr>\n",
       "      <th>2159</th>\n",
       "      <td>06-06-2022 22:55:51</td>\n",
       "      <td>27.799999</td>\n",
       "    </tr>\n",
       "  </tbody>\n",
       "</table>\n",
       "<p>2160 rows × 2 columns</p>\n",
       "</div>"
      ],
      "text/plain": [
       "                     Time       Temp\n",
       "0     06-06-2022 16:55:59  29.299999\n",
       "1     06-06-2022 16:56:09  29.299999\n",
       "2     06-06-2022 16:56:19  29.299999\n",
       "3     06-06-2022 16:56:29  29.299999\n",
       "4     06-06-2022 16:56:39  29.299999\n",
       "...                   ...        ...\n",
       "2155  06-06-2022 22:55:11  27.700001\n",
       "2156  06-06-2022 22:55:21  27.799999\n",
       "2157  06-06-2022 22:55:31  27.799999\n",
       "2158  06-06-2022 22:55:41  27.799999\n",
       "2159  06-06-2022 22:55:51  27.799999\n",
       "\n",
       "[2160 rows x 2 columns]"
      ]
     },
     "execution_count": 23,
     "metadata": {},
     "output_type": "execute_result"
    }
   ],
   "source": [
    "df_clean"
   ]
  },
  {
   "cell_type": "code",
   "execution_count": 24,
   "metadata": {},
   "outputs": [
    {
     "data": {
      "image/png": "[encoded data removed]",
      "text/plain": [
       "<Figure size 432x288 with 1 Axes>"
      ]
     },
     "metadata": {
      "needs_background": "light"
     },
     "output_type": "display_data"
    }
   ],
   "source": [
    "#temperature changing in time, 6 hours for now, i'll try to get an entire day this time\n",
    "#if i don't save temp as a variable it will plot with the time as xtick and it's bad\n",
    "plot_cols = ['Temp']\n",
    "plot_features = df_clean[plot_cols]\n",
    "_ = plot_features.plot(subplots=True)"
   ]
  },
  {
   "cell_type": "code",
   "execution_count": 25,
   "metadata": {},
   "outputs": [
    {
     "data": {
      "text/html": [
       "<div>\n",
       "<style scoped>\n",
       "    .dataframe tbody tr th:only-of-type {\n",
       "        vertical-align: middle;\n",
       "    }\n",
       "\n",
       "    .dataframe tbody tr th {\n",
       "        vertical-align: top;\n",
       "    }\n",
       "\n",
       "    .dataframe thead th {\n",
       "        text-align: right;\n",
       "    }\n",
       "</style>\n",
       "<table border=\"1\" class=\"dataframe\">\n",
       "  <thead>\n",
       "    <tr style=\"text-align: right;\">\n",
       "      <th></th>\n",
       "      <th>count</th>\n",
       "      <th>mean</th>\n",
       "      <th>std</th>\n",
       "      <th>min</th>\n",
       "      <th>25%</th>\n",
       "      <th>50%</th>\n",
       "      <th>75%</th>\n",
       "      <th>max</th>\n",
       "    </tr>\n",
       "  </thead>\n",
       "  <tbody>\n",
       "    <tr>\n",
       "      <th>Temp</th>\n",
       "      <td>2160.0</td>\n",
       "      <td>28.00713</td>\n",
       "      <td>0.58701</td>\n",
       "      <td>27.0</td>\n",
       "      <td>27.5</td>\n",
       "      <td>27.9</td>\n",
       "      <td>28.4</td>\n",
       "      <td>29.299999</td>\n",
       "    </tr>\n",
       "  </tbody>\n",
       "</table>\n",
       "</div>"
      ],
      "text/plain": [
       "       count      mean      std   min   25%   50%   75%        max\n",
       "Temp  2160.0  28.00713  0.58701  27.0  27.5  27.9  28.4  29.299999"
      ]
     },
     "execution_count": 25,
     "metadata": {},
     "output_type": "execute_result"
    }
   ],
   "source": [
    "df_clean.describe().transpose()\n",
    "#pretty stationary in the end, just wait for the day\n",
    "#basically with the year it should become almost stationary"
   ]
  },
  {
   "cell_type": "code",
   "execution_count": 26,
   "metadata": {},
   "outputs": [],
   "source": [
    "###stationary test\n",
    "from statsmodels.tsa.stattools import adfuller\n",
    "#split dataset\n",
    "l = len(df_clean.values)\n",
    "splitpoint = int(l*0.80)\n",
    "train = df_clean['Temp'][:splitpoint]\n",
    "test = df_clean['Temp'][splitpoint:]\n"
   ]
  },
  {
   "cell_type": "code",
   "execution_count": 27,
   "metadata": {},
   "outputs": [
    {
     "name": "stdout",
     "output_type": "stream",
     "text": [
      "ADF val:  -1.922188362323571 p-value: 0.3216960690716666\n"
     ]
    }
   ],
   "source": [
    "res = adfuller(train)\n",
    "print('ADF val: ', res[0], 'p-value:', res[1])"
   ]
  },
  {
   "cell_type": "code",
   "execution_count": 28,
   "metadata": {},
   "outputs": [
    {
     "name": "stdout",
     "output_type": "stream",
     "text": [
      "ADF val:  -12.68141523908919 p-value: 1.1847292092759317e-23\n"
     ]
    }
   ],
   "source": [
    "#if p-val < 0.05 then series is stationary, if not i have to do some magic -> 0.83977\n",
    "train_diff = train.diff().dropna()\n",
    "res = adfuller(train_diff)\n",
    "print('ADF val: ', res[0], 'p-value:', res[1])\n"
   ]
  },
  {
   "cell_type": "code",
   "execution_count": 29,
   "metadata": {},
   "outputs": [
    {
     "data": {
      "image/png": "[encoded data removed]",
      "text/plain": [
       "<Figure size 432x288 with 1 Axes>"
      ]
     },
     "metadata": {
      "needs_background": "light"
     },
     "output_type": "display_data"
    }
   ],
   "source": [
    "#holy shit that's low holy moly\n",
    "from statsmodels.graphics import tsaplots\n",
    "fig = tsaplots.plot_acf(train_diff, lags=10)\n",
    "plt.show()"
   ]
  },
  {
   "cell_type": "code",
   "execution_count": null,
   "metadata": {},
   "outputs": [],
   "source": [
    "#partial autocorrelation -> find q that is the highest with the minimal difference from the deviation(?) \n",
    "fig = tsaplots.plot_pacf(train_diff, lags=10)\n",
    "plt.show()"
   ]
  },
  {
   "cell_type": "code",
   "execution_count": null,
   "metadata": {},
   "outputs": [],
   "source": [
    "#once you have both p and q it is possibile to apply the ARIMA model\n",
    "from statsmodels.tsa.arima.model import ARIMA\n",
    "history = [x for x in train]\n",
    "predictions = list()\n",
    "print(test)\n",
    "for t in test.index:\n",
    "  model = ARIMA(history, order=(1,1,1)) #d is the number of time that the raw values are differentiated\n",
    "  model_fit = model.fit()\n",
    "  output = model_fit.forecast()\n",
    "  yest = output[0]\n",
    "  predictions.append(yest)\n",
    "  obs= test[t]\n",
    "  history.append(obs)"
   ]
  },
  {
   "cell_type": "code",
   "execution_count": 32,
   "metadata": {},
   "outputs": [
    {
     "name": "stdout",
     "output_type": "stream",
     "text": [
      "Test RMSE: 0.035\n"
     ]
    },
    {
     "data": {
      "image/png": "[encoded data removed]",
      "text/plain": [
       "<Figure size 432x288 with 1 Axes>"
      ]
     },
     "metadata": {
      "needs_background": "light"
     },
     "output_type": "display_data"
    }
   ],
   "source": [
    "#plt\n",
    "import math\n",
    "from sklearn.metrics import mean_squared_error\n",
    "\n",
    "rmse = math.sqrt(mean_squared_error(test, predictions))\n",
    "print('Test RMSE: %.3f'% rmse)\n",
    "\n",
    "df2 = pd. DataFrame (predictions)\n",
    "df2. set_index(test.index, inplace=True)\n",
    "plt.plot(test)\n",
    "plt.plot(df2, color='red')\n",
    "plt.show( )"
   ]
  },
  {
   "cell_type": "markdown",
   "metadata": {},
   "source": [
    "### Humidity predictor\n"
   ]
  },
  {
   "cell_type": "code",
   "execution_count": 33,
   "metadata": {},
   "outputs": [
    {
     "data": {
      "text/html": [
       "<div>\n",
       "<style scoped>\n",
       "    .dataframe tbody tr th:only-of-type {\n",
       "        vertical-align: middle;\n",
       "    }\n",
       "\n",
       "    .dataframe tbody tr th {\n",
       "        vertical-align: top;\n",
       "    }\n",
       "\n",
       "    .dataframe thead th {\n",
       "        text-align: right;\n",
       "    }\n",
       "</style>\n",
       "<table border=\"1\" class=\"dataframe\">\n",
       "  <thead>\n",
       "    <tr style=\"text-align: right;\">\n",
       "      <th></th>\n",
       "      <th>Time</th>\n",
       "      <th>Hum</th>\n",
       "    </tr>\n",
       "  </thead>\n",
       "  <tbody>\n",
       "    <tr>\n",
       "      <th>0</th>\n",
       "      <td>06-06-2022 16:59:09</td>\n",
       "      <td>50.200001</td>\n",
       "    </tr>\n",
       "    <tr>\n",
       "      <th>1</th>\n",
       "      <td>06-06-2022 16:59:19</td>\n",
       "      <td>50.299999</td>\n",
       "    </tr>\n",
       "    <tr>\n",
       "      <th>2</th>\n",
       "      <td>06-06-2022 16:59:29</td>\n",
       "      <td>50.299999</td>\n",
       "    </tr>\n",
       "    <tr>\n",
       "      <th>3</th>\n",
       "      <td>06-06-2022 16:59:39</td>\n",
       "      <td>50.099998</td>\n",
       "    </tr>\n",
       "    <tr>\n",
       "      <th>4</th>\n",
       "      <td>06-06-2022 16:59:49</td>\n",
       "      <td>50.099998</td>\n",
       "    </tr>\n",
       "    <tr>\n",
       "      <th>...</th>\n",
       "      <td>...</td>\n",
       "      <td>...</td>\n",
       "    </tr>\n",
       "    <tr>\n",
       "      <th>2155</th>\n",
       "      <td>06-06-2022 22:58:21</td>\n",
       "      <td>45.500000</td>\n",
       "    </tr>\n",
       "    <tr>\n",
       "      <th>2156</th>\n",
       "      <td>06-06-2022 22:58:31</td>\n",
       "      <td>46.099998</td>\n",
       "    </tr>\n",
       "    <tr>\n",
       "      <th>2157</th>\n",
       "      <td>06-06-2022 22:58:41</td>\n",
       "      <td>46.000000</td>\n",
       "    </tr>\n",
       "    <tr>\n",
       "      <th>2158</th>\n",
       "      <td>06-06-2022 22:58:51</td>\n",
       "      <td>46.099998</td>\n",
       "    </tr>\n",
       "    <tr>\n",
       "      <th>2159</th>\n",
       "      <td>06-06-2022 22:59:01</td>\n",
       "      <td>46.099998</td>\n",
       "    </tr>\n",
       "  </tbody>\n",
       "</table>\n",
       "<p>2160 rows × 2 columns</p>\n",
       "</div>"
      ],
      "text/plain": [
       "                     Time        Hum\n",
       "0     06-06-2022 16:59:09  50.200001\n",
       "1     06-06-2022 16:59:19  50.299999\n",
       "2     06-06-2022 16:59:29  50.299999\n",
       "3     06-06-2022 16:59:39  50.099998\n",
       "4     06-06-2022 16:59:49  50.099998\n",
       "...                   ...        ...\n",
       "2155  06-06-2022 22:58:21  45.500000\n",
       "2156  06-06-2022 22:58:31  46.099998\n",
       "2157  06-06-2022 22:58:41  46.000000\n",
       "2158  06-06-2022 22:58:51  46.099998\n",
       "2159  06-06-2022 22:59:01  46.099998\n",
       "\n",
       "[2160 rows x 2 columns]"
      ]
     },
     "execution_count": 33,
     "metadata": {},
     "output_type": "execute_result"
    }
   ],
   "source": [
    "from influxdb_client import InfluxDBClient, Point\n",
    "from influxdb_client.client.write_api import SYNCHRONOUS\n",
    "#read influx info from config file\n",
    "\n",
    "fd =  open('../server/influxconfig.json', 'r')\n",
    "config = json.load(fd)\n",
    "query_hum = 'from(bucket:\"hum\")' \\\n",
    "        ' |> range(start:-6h)'\\\n",
    "        ' |> filter(fn: (r) => r._measurement == \"val\" and r._field == \"value\" and r._value > -1)'\n",
    "client =  InfluxDBClient(url='http://'+config[\"remotehost\"]+':'+config[\"port\"], token=config[\"token\"], org=config[\"org\"], debug=False)\n",
    "write_api = client.write_api(write_options=SYNCHRONOUS)\n",
    "query_api = client.query_api()  \n",
    "result = query_api.query_data_frame(query_hum)\n",
    "\n",
    "fd.close()\n",
    "df = result.drop(columns=['result', 'table', '_start', '_stop', '_field', '_measurement'])\n",
    "df_clean = df.copy()\n",
    "df_clean = df_clean.loc[df_clean['sensor'] == '0']\n",
    "df_clean = df_clean.drop(columns=['lat', 'lon', 'sensor'])\n",
    "df_clean = df_clean.rename(columns = {'_time': 'Time', '_value': 'Hum'})\n",
    "df_clean['Time'] = df_clean['Time'].dt.strftime('%d-%m-%Y %H:%M:%S')\n",
    "df_clean"
   ]
  },
  {
   "cell_type": "code",
   "execution_count": 34,
   "metadata": {},
   "outputs": [
    {
     "data": {
      "image/png": "[encoded data removed]",
      "text/plain": [
       "<Figure size 432x288 with 1 Axes>"
      ]
     },
     "metadata": {
      "needs_background": "light"
     },
     "output_type": "display_data"
    }
   ],
   "source": [
    "plot_cols = ['Hum']\n",
    "plot_features = df_clean[plot_cols]\n",
    "_ = plot_features.plot(subplots=True)"
   ]
  },
  {
   "cell_type": "code",
   "execution_count": 35,
   "metadata": {},
   "outputs": [
    {
     "data": {
      "text/html": [
       "<div>\n",
       "<style scoped>\n",
       "    .dataframe tbody tr th:only-of-type {\n",
       "        vertical-align: middle;\n",
       "    }\n",
       "\n",
       "    .dataframe tbody tr th {\n",
       "        vertical-align: top;\n",
       "    }\n",
       "\n",
       "    .dataframe thead th {\n",
       "        text-align: right;\n",
       "    }\n",
       "</style>\n",
       "<table border=\"1\" class=\"dataframe\">\n",
       "  <thead>\n",
       "    <tr style=\"text-align: right;\">\n",
       "      <th></th>\n",
       "      <th>count</th>\n",
       "      <th>mean</th>\n",
       "      <th>std</th>\n",
       "      <th>min</th>\n",
       "      <th>25%</th>\n",
       "      <th>50%</th>\n",
       "      <th>75%</th>\n",
       "      <th>max</th>\n",
       "    </tr>\n",
       "  </thead>\n",
       "  <tbody>\n",
       "    <tr>\n",
       "      <th>Hum</th>\n",
       "      <td>2160.0</td>\n",
       "      <td>51.045139</td>\n",
       "      <td>1.741017</td>\n",
       "      <td>45.200001</td>\n",
       "      <td>50.299999</td>\n",
       "      <td>51.400002</td>\n",
       "      <td>52.099998</td>\n",
       "      <td>54.900002</td>\n",
       "    </tr>\n",
       "  </tbody>\n",
       "</table>\n",
       "</div>"
      ],
      "text/plain": [
       "      count       mean       std        min        25%        50%        75%  \\\n",
       "Hum  2160.0  51.045139  1.741017  45.200001  50.299999  51.400002  52.099998   \n",
       "\n",
       "           max  \n",
       "Hum  54.900002  "
      ]
     },
     "execution_count": 35,
     "metadata": {},
     "output_type": "execute_result"
    }
   ],
   "source": [
    "df_clean.describe().transpose()"
   ]
  },
  {
   "cell_type": "code",
   "execution_count": 36,
   "metadata": {},
   "outputs": [],
   "source": [
    "###stationary test\n",
    "from statsmodels.tsa.stattools import adfuller\n",
    "#split dataset\n",
    "l = len(df_clean.values)\n",
    "splitpoint = int(l*0.80)\n",
    "train = df_clean['Hum'][:splitpoint]\n",
    "test = df_clean['Hum'][splitpoint:]\n"
   ]
  },
  {
   "cell_type": "code",
   "execution_count": 37,
   "metadata": {},
   "outputs": [
    {
     "name": "stdout",
     "output_type": "stream",
     "text": [
      "ADF val:  -1.83051209049183 p-value: 0.36542192662829676\n"
     ]
    }
   ],
   "source": [
    "res = adfuller(train)\n",
    "print('ADF val: ', res[0], 'p-value:', res[1])"
   ]
  },
  {
   "cell_type": "code",
   "execution_count": 38,
   "metadata": {},
   "outputs": [
    {
     "name": "stdout",
     "output_type": "stream",
     "text": [
      "ADF val:  -13.402328961690692 p-value: 4.540489037218546e-25\n"
     ]
    }
   ],
   "source": [
    "#if p-val < 0.05 then series is stationary, if not i have to do some magic -> 0.83977\n",
    "train_diff = train.diff().dropna()\n",
    "res = adfuller(train_diff)\n",
    "print('ADF val: ', res[0], 'p-value:', res[1])"
   ]
  },
  {
   "cell_type": "code",
   "execution_count": 39,
   "metadata": {},
   "outputs": [
    {
     "data": {
      "image/png": "[encoded data removed]",
      "text/plain": [
       "<Figure size 432x288 with 1 Axes>"
      ]
     },
     "metadata": {
      "needs_background": "light"
     },
     "output_type": "display_data"
    }
   ],
   "source": [
    "#holy shit that's low holy moly\n",
    "from statsmodels.graphics import tsaplots\n",
    "fig = tsaplots.plot_acf(train_diff, lags=10)\n",
    "plt.show()"
   ]
  },
  {
   "cell_type": "code",
   "execution_count": null,
   "metadata": {},
   "outputs": [],
   "source": [
    "#partial autocorrelation -> find q that is the highest with the minimal difference from the deviation(?) \n",
    "fig = tsaplots.plot_pacf(train_diff, lags=10)\n",
    "plt.show()"
   ]
  },
  {
   "cell_type": "code",
   "execution_count": 41,
   "metadata": {},
   "outputs": [
    {
     "name": "stderr",
     "output_type": "stream",
     "text": [
      "C:\\Users\\franc\\AppData\\Local\\Packages\\PythonSoftwareFoundation.Python.3.9_qbz5n2kfra8p0\\LocalCache\\local-packages\\Python39\\site-packages\\statsmodels\\base\\model.py:604: ConvergenceWarning: Maximum Likelihood optimization failed to converge. Check mle_retvals\n",
      "  warnings.warn(\"Maximum Likelihood optimization failed to \"\n",
      "C:\\Users\\franc\\AppData\\Local\\Packages\\PythonSoftwareFoundation.Python.3.9_qbz5n2kfra8p0\\LocalCache\\local-packages\\Python39\\site-packages\\statsmodels\\base\\model.py:604: ConvergenceWarning: Maximum Likelihood optimization failed to converge. Check mle_retvals\n",
      "  warnings.warn(\"Maximum Likelihood optimization failed to \"\n",
      "C:\\Users\\franc\\AppData\\Local\\Packages\\PythonSoftwareFoundation.Python.3.9_qbz5n2kfra8p0\\LocalCache\\local-packages\\Python39\\site-packages\\statsmodels\\base\\model.py:604: ConvergenceWarning: Maximum Likelihood optimization failed to converge. Check mle_retvals\n",
      "  warnings.warn(\"Maximum Likelihood optimization failed to \"\n",
      "C:\\Users\\franc\\AppData\\Local\\Packages\\PythonSoftwareFoundation.Python.3.9_qbz5n2kfra8p0\\LocalCache\\local-packages\\Python39\\site-packages\\statsmodels\\base\\model.py:604: ConvergenceWarning: Maximum Likelihood optimization failed to converge. Check mle_retvals\n",
      "  warnings.warn(\"Maximum Likelihood optimization failed to \"\n",
      "C:\\Users\\franc\\AppData\\Local\\Packages\\PythonSoftwareFoundation.Python.3.9_qbz5n2kfra8p0\\LocalCache\\local-packages\\Python39\\site-packages\\statsmodels\\base\\model.py:604: ConvergenceWarning: Maximum Likelihood optimization failed to converge. Check mle_retvals\n",
      "  warnings.warn(\"Maximum Likelihood optimization failed to \"\n",
      "C:\\Users\\franc\\AppData\\Local\\Packages\\PythonSoftwareFoundation.Python.3.9_qbz5n2kfra8p0\\LocalCache\\local-packages\\Python39\\site-packages\\statsmodels\\base\\model.py:604: ConvergenceWarning: Maximum Likelihood optimization failed to converge. Check mle_retvals\n",
      "  warnings.warn(\"Maximum Likelihood optimization failed to \"\n"
     ]
    }
   ],
   "source": [
    "#once you have both p and q it is possibile to apply the ARIMA model\n",
    "from statsmodels.tsa.arima.model import ARIMA\n",
    "history = [x for x in train]\n",
    "predictions = list()\n",
    "print(test)\n",
    "for t in test.index:\n",
    "  model = ARIMA(history, order=(1,1,1)) #d is the number of time that the raw values are differentiated\n",
    "  model_fit = model.fit()\n",
    "  output = model_fit.forecast()\n",
    "  yest = output[0]\n",
    "  predictions.append(yest)\n",
    "  obs= test[t]\n",
    "  history.append(obs)"
   ]
  },
  {
   "cell_type": "code",
   "execution_count": 43,
   "metadata": {},
   "outputs": [
    {
     "name": "stdout",
     "output_type": "stream",
     "text": [
      "Test RMSE: 0.245\n"
     ]
    },
    {
     "data": {
      "image/png": "[encoded data removed]",
      "text/plain": [
       "<Figure size 432x288 with 1 Axes>"
      ]
     },
     "metadata": {
      "needs_background": "light"
     },
     "output_type": "display_data"
    }
   ],
   "source": [
    "#plt\n",
    "import math\n",
    "from sklearn.metrics import mean_squared_error\n",
    "\n",
    "rmse = math.sqrt(mean_squared_error(test, predictions))\n",
    "print('Test RMSE: %.3f'% rmse)\n",
    "\n",
    "df2 = pd. DataFrame (predictions)\n",
    "df2. set_index(test.index, inplace=True)\n",
    "plt.plot(test)\n",
    "plt.plot(df2, color='red')\n",
    "plt.show( )"
   ]
  },
  {
   "cell_type": "markdown",
   "metadata": {},
   "source": [
    "### Smoke Predictor (AHAHAHAHAH)"
   ]
  },
  {
   "cell_type": "code",
   "execution_count": 8,
   "metadata": {},
   "outputs": [
    {
     "data": {
      "text/html": [
       "<div>\n",
       "<style scoped>\n",
       "    .dataframe tbody tr th:only-of-type {\n",
       "        vertical-align: middle;\n",
       "    }\n",
       "\n",
       "    .dataframe tbody tr th {\n",
       "        vertical-align: top;\n",
       "    }\n",
       "\n",
       "    .dataframe thead th {\n",
       "        text-align: right;\n",
       "    }\n",
       "</style>\n",
       "<table border=\"1\" class=\"dataframe\">\n",
       "  <thead>\n",
       "    <tr style=\"text-align: right;\">\n",
       "      <th></th>\n",
       "      <th>Time</th>\n",
       "      <th>Smoke</th>\n",
       "    </tr>\n",
       "  </thead>\n",
       "  <tbody>\n",
       "    <tr>\n",
       "      <th>0</th>\n",
       "      <td>06-06-2022 16:51:59</td>\n",
       "      <td>0.587429</td>\n",
       "    </tr>\n",
       "    <tr>\n",
       "      <th>1</th>\n",
       "      <td>06-06-2022 16:52:09</td>\n",
       "      <td>0.604293</td>\n",
       "    </tr>\n",
       "    <tr>\n",
       "      <th>2</th>\n",
       "      <td>06-06-2022 16:52:19</td>\n",
       "      <td>0.605919</td>\n",
       "    </tr>\n",
       "    <tr>\n",
       "      <th>3</th>\n",
       "      <td>06-06-2022 16:52:29</td>\n",
       "      <td>0.593808</td>\n",
       "    </tr>\n",
       "    <tr>\n",
       "      <th>4</th>\n",
       "      <td>06-06-2022 16:52:39</td>\n",
       "      <td>0.624040</td>\n",
       "    </tr>\n",
       "    <tr>\n",
       "      <th>...</th>\n",
       "      <td>...</td>\n",
       "      <td>...</td>\n",
       "    </tr>\n",
       "    <tr>\n",
       "      <th>2155</th>\n",
       "      <td>06-06-2022 22:51:11</td>\n",
       "      <td>0.610000</td>\n",
       "    </tr>\n",
       "    <tr>\n",
       "      <th>2156</th>\n",
       "      <td>06-06-2022 22:51:21</td>\n",
       "      <td>0.574054</td>\n",
       "    </tr>\n",
       "    <tr>\n",
       "      <th>2157</th>\n",
       "      <td>06-06-2022 22:51:31</td>\n",
       "      <td>0.607549</td>\n",
       "    </tr>\n",
       "    <tr>\n",
       "      <th>2158</th>\n",
       "      <td>06-06-2022 22:51:41</td>\n",
       "      <td>0.603481</td>\n",
       "    </tr>\n",
       "    <tr>\n",
       "      <th>2159</th>\n",
       "      <td>06-06-2022 22:51:51</td>\n",
       "      <td>0.611638</td>\n",
       "    </tr>\n",
       "  </tbody>\n",
       "</table>\n",
       "<p>2160 rows × 2 columns</p>\n",
       "</div>"
      ],
      "text/plain": [
       "                     Time     Smoke\n",
       "0     06-06-2022 16:51:59  0.587429\n",
       "1     06-06-2022 16:52:09  0.604293\n",
       "2     06-06-2022 16:52:19  0.605919\n",
       "3     06-06-2022 16:52:29  0.593808\n",
       "4     06-06-2022 16:52:39  0.624040\n",
       "...                   ...       ...\n",
       "2155  06-06-2022 22:51:11  0.610000\n",
       "2156  06-06-2022 22:51:21  0.574054\n",
       "2157  06-06-2022 22:51:31  0.607549\n",
       "2158  06-06-2022 22:51:41  0.603481\n",
       "2159  06-06-2022 22:51:51  0.611638\n",
       "\n",
       "[2160 rows x 2 columns]"
      ]
     },
     "execution_count": 8,
     "metadata": {},
     "output_type": "execute_result"
    }
   ],
   "source": [
    "from influxdb_client import InfluxDBClient, Point\n",
    "from influxdb_client.client.write_api import SYNCHRONOUS\n",
    "#read influx info from config file\n",
    "\n",
    "fd =  open('../server/influxconfig.json', 'r')\n",
    "config = json.load(fd)\n",
    "\n",
    "query_smoke = 'from(bucket:\"smoke\")' \\\n",
    "        ' |> range(start:-6h)'\\\n",
    "        ' |> filter(fn: (r) => r._measurement == \"val\" and r._field == \"value\")'\n",
    "client =  InfluxDBClient(url='http://'+config[\"remotehost\"]+':'+config[\"port\"], token=config[\"token\"], org=config[\"org\"], debug=False)\n",
    "write_api = client.write_api(write_options=SYNCHRONOUS)\n",
    "query_api = client.query_api()  \n",
    "result = query_api.query_data_frame(query_smoke)\n",
    "\n",
    "fd.close()\n",
    "df = result.drop(columns=['result', 'table', '_start', '_stop', '_field', '_measurement'])\n",
    "df_clean = df.copy()\n",
    "df_clean = df_clean.loc[df_clean['sensor'] == '0']\n",
    "df_clean = df_clean.drop(columns=['lat', 'lon', 'sensor'])\n",
    "df_clean = df_clean.rename(columns = {'_time': 'Time', '_value': 'Smoke'})\n",
    "df_clean['Time'] = df_clean['Time'].dt.strftime('%d-%m-%Y %H:%M:%S')\n",
    "df_clean"
   ]
  },
  {
   "cell_type": "code",
   "execution_count": 9,
   "metadata": {},
   "outputs": [
    {
     "data": {
      "image/png": "[encoded data removed]",
      "text/plain": [
       "<Figure size 432x288 with 1 Axes>"
      ]
     },
     "metadata": {
      "needs_background": "light"
     },
     "output_type": "display_data"
    }
   ],
   "source": [
    "plot_cols = ['Smoke']\n",
    "plot_features = df_clean[plot_cols]\n",
    "_ = plot_features.plot(subplots=True)"
   ]
  },
  {
   "cell_type": "code",
   "execution_count": 10,
   "metadata": {},
   "outputs": [
    {
     "data": {
      "text/html": [
       "<div>\n",
       "<style scoped>\n",
       "    .dataframe tbody tr th:only-of-type {\n",
       "        vertical-align: middle;\n",
       "    }\n",
       "\n",
       "    .dataframe tbody tr th {\n",
       "        vertical-align: top;\n",
       "    }\n",
       "\n",
       "    .dataframe thead th {\n",
       "        text-align: right;\n",
       "    }\n",
       "</style>\n",
       "<table border=\"1\" class=\"dataframe\">\n",
       "  <thead>\n",
       "    <tr style=\"text-align: right;\">\n",
       "      <th></th>\n",
       "      <th>count</th>\n",
       "      <th>mean</th>\n",
       "      <th>std</th>\n",
       "      <th>min</th>\n",
       "      <th>25%</th>\n",
       "      <th>50%</th>\n",
       "      <th>75%</th>\n",
       "      <th>max</th>\n",
       "    </tr>\n",
       "  </thead>\n",
       "  <tbody>\n",
       "    <tr>\n",
       "      <th>Smoke</th>\n",
       "      <td>2160.0</td>\n",
       "      <td>0.594456</td>\n",
       "      <td>0.027135</td>\n",
       "      <td>0.514331</td>\n",
       "      <td>0.574834</td>\n",
       "      <td>0.592208</td>\n",
       "      <td>0.614926</td>\n",
       "      <td>0.656367</td>\n",
       "    </tr>\n",
       "  </tbody>\n",
       "</table>\n",
       "</div>"
      ],
      "text/plain": [
       "        count      mean       std       min       25%       50%       75%  \\\n",
       "Smoke  2160.0  0.594456  0.027135  0.514331  0.574834  0.592208  0.614926   \n",
       "\n",
       "            max  \n",
       "Smoke  0.656367  "
      ]
     },
     "execution_count": 10,
     "metadata": {},
     "output_type": "execute_result"
    }
   ],
   "source": [
    "df_clean.describe().transpose()\n"
   ]
  },
  {
   "cell_type": "code",
   "execution_count": 12,
   "metadata": {},
   "outputs": [],
   "source": [
    "###stationary test\n",
    "from statsmodels.tsa.stattools import adfuller\n",
    "#split dataset\n",
    "l = len(df_clean.values)\n",
    "splitpoint = int(l*0.80)\n",
    "train = df_clean['Smoke'][:splitpoint]\n",
    "test = df_clean['Smoke'][splitpoint:]"
   ]
  },
  {
   "cell_type": "code",
   "execution_count": 13,
   "metadata": {},
   "outputs": [
    {
     "name": "stdout",
     "output_type": "stream",
     "text": [
      "ADF val:  -1.846877893695347 p-value: 0.3574487883460703\n"
     ]
    }
   ],
   "source": [
    "res = adfuller(train)\n",
    "print('ADF val: ', res[0], 'p-value:', res[1])"
   ]
  },
  {
   "cell_type": "code",
   "execution_count": 14,
   "metadata": {},
   "outputs": [
    {
     "name": "stdout",
     "output_type": "stream",
     "text": [
      "ADF val:  -15.973889284763278 p-value: 6.955470179367042e-29\n"
     ]
    }
   ],
   "source": [
    "#if p-val < 0.05 then series is stationary, if not i have to do some magic -> 0.83977\n",
    "train_diff = train.diff().dropna()\n",
    "res = adfuller(train_diff)\n",
    "print('ADF val: ', res[0], 'p-value:', res[1])"
   ]
  },
  {
   "cell_type": "code",
   "execution_count": 15,
   "metadata": {},
   "outputs": [
    {
     "data": {
      "image/png": "[encoded data removed]",
      "text/plain": [
       "<Figure size 432x288 with 1 Axes>"
      ]
     },
     "metadata": {
      "needs_background": "light"
     },
     "output_type": "display_data"
    }
   ],
   "source": [
    "#holy shit that's low holy moly\n",
    "from statsmodels.graphics import tsaplots\n",
    "fig = tsaplots.plot_acf(train_diff, lags=10)\n",
    "plt.show()"
   ]
  },
  {
   "cell_type": "code",
   "execution_count": 16,
   "metadata": {},
   "outputs": [
    {
     "name": "stderr",
     "output_type": "stream",
     "text": [
      "C:\\Users\\franc\\AppData\\Local\\Packages\\PythonSoftwareFoundation.Python.3.9_qbz5n2kfra8p0\\LocalCache\\local-packages\\Python39\\site-packages\\statsmodels\\graphics\\tsaplots.py:348: FutureWarning: The default method 'yw' can produce PACF values outside of the [-1,1] interval. After 0.13, the default will change tounadjusted Yule-Walker ('ywm'). You can use this method now by setting method='ywm'.\n",
      "  warnings.warn(\n"
     ]
    },
    {
     "data": {
      "image/png": "[encoded data removed]",
      "text/plain": [
       "<Figure size 432x288 with 1 Axes>"
      ]
     },
     "metadata": {
      "needs_background": "light"
     },
     "output_type": "display_data"
    }
   ],
   "source": [
    "#partial autocorrelation -> find q that is the highest with the minimal difference from the deviation(?) \n",
    "fig = tsaplots.plot_pacf(train_diff, lags=10)\n",
    "plt.show()"
   ]
  },
  {
   "cell_type": "code",
   "execution_count": null,
   "metadata": {},
   "outputs": [],
   "source": [
    "#once you have both p and q it is possibile to apply the ARIMA model\n",
    "from statsmodels.tsa.arima.model import ARIMA\n",
    "history = [x for x in train]\n",
    "predictions = list()\n",
    "print(test)\n",
    "for t in test.index:\n",
    "  model = ARIMA(history, order=(1,1,1)) #d is the number of time that the raw values are differentiated\n",
    "  model_fit = model.fit()\n",
    "  output = model_fit.forecast()\n",
    "  yest = output[0]\n",
    "  predictions.append(yest)\n",
    "  obs= test[t]\n",
    "  history.append(obs)"
   ]
  },
  {
   "cell_type": "code",
   "execution_count": 42,
   "metadata": {},
   "outputs": [
    {
     "name": "stdout",
     "output_type": "stream",
     "text": [
      "Test RMSE: 0.245\n"
     ]
    },
    {
     "data": {
      "image/png": "[encoded data removed]",
      "text/plain": [
       "<Figure size 432x288 with 1 Axes>"
      ]
     },
     "metadata": {
      "needs_background": "light"
     },
     "output_type": "display_data"
    }
   ],
   "source": [
    "#plt\n",
    "import math\n",
    "from sklearn.metrics import mean_squared_error\n",
    "\n",
    "rmse = math.sqrt(mean_squared_error(test, predictions))\n",
    "print('Test RMSE: %.3f'% rmse)\n",
    "\n",
    "df2 = pd. DataFrame (predictions)\n",
    "df2. set_index(test.index, inplace=True)\n",
    "plt.plot(test)\n",
    "plt.plot(df2, color='red')\n",
    "plt.show( )"
   ]
  }
 ],
 "metadata": {
  "interpreter": {
   "hash": "6e91d7251fb344e996def3e92284d431619133ca817cffa03ab54840799a3500"
  },
  "kernelspec": {
   "display_name": "Python 3.9.13 64-bit (windows store)",
   "language": "python",
   "name": "python3"
  },
  "language_info": {
   "codemirror_mode": {
    "name": "ipython",
    "version": 3
   },
   "file_extension": ".py",
   "mimetype": "text/x-python",
   "name": "python",
   "nbconvert_exporter": "python",
   "pygments_lexer": "ipython3",
   "version": "3.9.13"
  },
  "orig_nbformat": 4
 },
 "nbformat": 4,
 "nbformat_minor": 2
}
