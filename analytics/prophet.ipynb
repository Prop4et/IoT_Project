{
 "cells": [
  {
   "cell_type": "code",
   "execution_count": null,
   "metadata": {},
   "outputs": [],
   "source": [
    "%pip install pandas\n",
    "%pip install influxdb_client\n",
    "%pip install cmdstanpy==0.9.68\n",
    "%pip install pystan==2.19.1.1\n",
    "%pip install seaborn\n",
    "%pip install prophet"
   ]
  },
  {
   "cell_type": "code",
   "execution_count": null,
   "metadata": {},
   "outputs": [],
   "source": [
    "import os\n",
    "import pandas as pd\n",
    "import numpy as np\n",
    "import seaborn as sns\n",
    "import matplotlib.pyplot as plt\n",
    "import json"
   ]
  },
  {
   "cell_type": "code",
   "execution_count": null,
   "metadata": {},
   "outputs": [],
   "source": [
    "from influxdb_client import InfluxDBClient, Point\n",
    "from influxdb_client.client.write_api import SYNCHRONOUS\n",
    "#read influx info from config file\n",
    "\n",
    "with open('../server/influxconfig.json', 'r') as fd:\n",
    "    config = json.load(fd)\n",
    "\n",
    "#need to edit the query cause idk what i have to predict on\n",
    "\n",
    "#from(bucket: \"temp\")\n",
    "#    |> range(start: -24h)\n",
    "#    |> filter(fn: (r) => r._measurement == \"val\" and r._field == \"value\" and r._value > -300 and r.sensor == string(v: ${Sensor_id}))\n",
    "\n",
    "\n",
    "query_temp = 'from(bucket:\"temp\")' \\\n",
    "        ' |> range(start:2007-12-10T15:00:00Z, stop:2016-01-20T15:00:00Z)'\\\n",
    "        ' |> filter(fn: (r) => r._measurement == \"views\")' \\\n",
    "        ' |> filter(fn: (r) => r._field == \"y\")'\n",
    "\n",
    "client =  InfluxDBClient(url='http://'+config.host+':'+config.port, token=config.token, org=config.org, debug=False)\n",
    "write_api = client.write_api(write_options=SYNCHRONOUS)\n",
    "query_api = client.query_api()  \n",
    "result = query_api.query(query_temp)"
   ]
  },
  {
   "cell_type": "code",
   "execution_count": null,
   "metadata": {},
   "outputs": [],
   "source": [
    "for table in result:\n",
    "    print(table)\n",
    "    for record in table.records:\n",
    "        print(record)\n",
    "#i should be querying now, so this part will be done as soon as i get home"
   ]
  },
  {
   "cell_type": "code",
   "execution_count": null,
   "metadata": {},
   "outputs": [],
   "source": [
    "#build the dataframe with the data needed for the algorithm, when you have fields\n",
    "#ideally df['Time'], df['v']"
   ]
  },
  {
   "cell_type": "code",
   "execution_count": null,
   "metadata": {},
   "outputs": [],
   "source": [
    "values = df['temp']\n",
    "values.index = df['time']\n",
    "values.plot(sublots=True)"
   ]
  },
  {
   "cell_type": "code",
   "execution_count": null,
   "metadata": {},
   "outputs": [],
   "source": [
    "###stationary test\n",
    "from statsmodels.tsa.stattools import adfuller\n",
    "#split dataset\n",
    "l = len(df.values)\n",
    "cut = int(l*.8)\n",
    "train = df[:cut]\n",
    "test = df[cut:]\n",
    "#dickey fuller should be implemented inside no?\n",
    "model = Prophet()\n",
    "model.fit(train)"
   ]
  },
  {
   "cell_type": "code",
   "execution_count": null,
   "metadata": {},
   "outputs": [],
   "source": [
    "future = model.make_future_dataframe(periods=365)\n",
    "future.tail()\n",
    "forecast = model.predict(future)\n",
    "#forecast[['ds', 'yhat', 'yhat_lower', 'yhat_upper']].tail()"
   ]
  },
  {
   "cell_type": "code",
   "execution_count": null,
   "metadata": {},
   "outputs": [],
   "source": [
    "fig1 = model.plot(forecast)\n",
    "fig2 = model.plot_components(forecast)\n"
   ]
  },
  {
   "cell_type": "code",
   "execution_count": null,
   "metadata": {},
   "outputs": [],
   "source": [
    "#plt error but idk if this works with prophet\n",
    "import math\n",
    "from sklearn.metrics import mean_squared_error\n",
    "\n",
    "rmse = math.sqrt(mean_squared_error(test, future))\n",
    "print('Test RMSE: %.3f'% rmse)\n",
    "\n",
    "df2 = pd. DataFrame(future)\n",
    "df2. set_index(test.index, inplace=True)\n",
    "plt.plot(test)\n",
    "plt.plot(df2, color='red')\n",
    "plt.show( )"
   ]
  }
 ],
 "metadata": {
  "interpreter": {
   "hash": "31f2aee4e71d21fbe5cf8b01ff0e069b9275f58929596ceb00d14d90e3e16cd6"
  },
  "kernelspec": {
   "display_name": "Python 3.8.10 64-bit",
   "language": "python",
   "name": "python3"
  },
  "language_info": {
   "name": "python",
   "version": "3.8.10"
  },
  "orig_nbformat": 4
 },
 "nbformat": 4,
 "nbformat_minor": 2
}
