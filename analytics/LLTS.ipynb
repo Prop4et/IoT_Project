{
 "cells": [
  {
   "cell_type": "code",
   "execution_count": null,
   "metadata": {},
   "outputs": [],
   "source": [
    "%pip install pandas\n",
    "%pip install influxdb_client"
   ]
  },
  {
   "cell_type": "code",
   "execution_count": null,
   "metadata": {},
   "outputs": [],
   "source": [
    "import os\n",
    "import pandas as pd\n",
    "import numpy as np\n",
    "import seaborn as sns\n",
    "import matplotlib.pyplot as plt\n",
    "import json"
   ]
  },
  {
   "cell_type": "code",
   "execution_count": null,
   "metadata": {},
   "outputs": [],
   "source": [
    "from influxdb_client import InfluxDBClient, Point\n",
    "from influxdb_client.client.write_api import SYNCHRONOUS\n",
    "#read influx info from config file\n",
    "\n",
    "with open('../server/influxconfig.json', 'r') as fd:\n",
    "    config = json.load(fd)\n",
    "\n",
    "#need to edit the query cause idk what i have to predict on\n",
    "\n",
    "#from(bucket: \"temp\")\n",
    "#    |> range(start: -24h)\n",
    "#    |> filter(fn: (r) => r._measurement == \"val\" and r._field == \"value\" and r._value > -300 and r.sensor == string(v: ${Sensor_id}))\n",
    "\n",
    "\n",
    "query_temp = 'from(bucket:\"temp\")' \\\n",
    "        ' |> range(start:2007-12-10T15:00:00Z, stop:2016-01-20T15:00:00Z)'\\\n",
    "        ' |> filter(fn: (r) => r._measurement == \"views\")' \\\n",
    "        ' |> filter(fn: (r) => r._field == \"y\")'\n",
    "\n",
    "client =  InfluxDBClient(url='http://'+config.host+':'+config.port, token=config.token, org=config.org, debug=False)\n",
    "write_api = client.write_api(write_options=SYNCHRONOUS)\n",
    "query_api = client.query_api()  \n",
    "result = query_api.query(query_temp)"
   ]
  },
  {
   "cell_type": "code",
   "execution_count": null,
   "metadata": {},
   "outputs": [],
   "source": [
    "for table in result:\n",
    "    print(table)\n",
    "    for record in table.records:\n",
    "        print(record)\n",
    "#i should be querying now, so this part will be done as soon as i get home"
   ]
  },
  {
   "cell_type": "code",
   "execution_count": null,
   "metadata": {},
   "outputs": [],
   "source": [
    "#build the dataframe with the data needed for the algorithm, when you have fields\n",
    "#ideally df['Time'], df['v']"
   ]
  },
  {
   "cell_type": "code",
   "execution_count": null,
   "metadata": {},
   "outputs": [],
   "source": [
    "values = df['temp']\n",
    "values.index = df['time']\n",
    "values.plot(sublots=True)"
   ]
  },
  {
   "cell_type": "code",
   "execution_count": null,
   "metadata": {},
   "outputs": [],
   "source": [
    "#boh non so come andare avanti poi tbh\n",
    "#in realtà non ho manco capito se sta roba la fa su dati vecchi, presi dal sensore o se caricati dalla stazione meteo boh"
   ]
  },
  {
   "cell_type": "code",
   "execution_count": null,
   "metadata": {},
   "outputs": [],
   "source": []
  }
 ],
 "metadata": {
  "language_info": {
   "name": "python"
  },
  "orig_nbformat": 4
 },
 "nbformat": 4,
 "nbformat_minor": 2
}
