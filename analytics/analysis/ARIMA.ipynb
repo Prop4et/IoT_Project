{
 "cells": [
  {
   "cell_type": "code",
   "execution_count": null,
   "metadata": {},
   "outputs": [],
   "source": [
    "%pip install pandas\n",
    "%pip install influxdb_client\n",
    "%pip install cmdstanpy==0.9.68\n",
    "%pip install pystan==2.19.1.1\n",
    "%pip install seaborn\n",
    "%pip install prophet"
   ]
  },
  {
   "cell_type": "markdown",
   "metadata": {},
   "source": [
    "### Get data from influx db\n",
    "based on https://github.com/influxdata/influxdb-client-python/blob/master/examples/"
   ]
  },
  {
   "cell_type": "code",
   "execution_count": 6,
   "metadata": {},
   "outputs": [],
   "source": [
    "import os\n",
    "import pandas as pd\n",
    "import numpy as np\n",
    "import seaborn as sns\n",
    "import matplotlib.pyplot as plt\n",
    "import json"
   ]
  },
  {
   "cell_type": "code",
   "execution_count": 15,
   "metadata": {},
   "outputs": [],
   "source": [
    "from influxdb_client import InfluxDBClient\n",
    "from influxdb_client.client.write_api import SYNCHRONOUS\n",
    "#read influx info from config file\n",
    "\n",
    "fd =  open('../../server/config.json', 'r')\n",
    "config = json.load(fd)\n",
    "query_temp = 'from(bucket:\"temp\")' \\\n",
    "        ' |> range(start: -4h)'\\\n",
    "        ' |> filter(fn: (r) => r._measurement == \"val\" and r._field == \"value\")'\n",
    "client =  InfluxDBClient(url='http://'+config[\"influx\"][\"remotehost\"]+':'+config[\"influx\"][\"port\"], token=config[\"influx\"][\"token\"], org=config[\"influx\"][\"org\"], debug=False)\n",
    "write_api = client.write_api(write_options=SYNCHRONOUS)\n",
    "query_api = client.query_api()  \n",
    "result = query_api.query_data_frame(query_temp)\n",
    "\n",
    "fd.close()"
   ]
  },
  {
   "cell_type": "code",
   "execution_count": 16,
   "metadata": {},
   "outputs": [],
   "source": [
    "df = result.drop(columns=['result', 'table', '_start', '_stop', '_field', '_measurement'])"
   ]
  },
  {
   "cell_type": "code",
   "execution_count": 17,
   "metadata": {},
   "outputs": [
    {
     "data": {
      "text/html": [
       "<div>\n",
       "<style scoped>\n",
       "    .dataframe tbody tr th:only-of-type {\n",
       "        vertical-align: middle;\n",
       "    }\n",
       "\n",
       "    .dataframe tbody tr th {\n",
       "        vertical-align: top;\n",
       "    }\n",
       "\n",
       "    .dataframe thead th {\n",
       "        text-align: right;\n",
       "    }\n",
       "</style>\n",
       "<table border=\"1\" class=\"dataframe\">\n",
       "  <thead>\n",
       "    <tr style=\"text-align: right;\">\n",
       "      <th></th>\n",
       "      <th>Time</th>\n",
       "      <th>y</th>\n",
       "    </tr>\n",
       "  </thead>\n",
       "  <tbody>\n",
       "    <tr>\n",
       "      <th>0</th>\n",
       "      <td>14-06-2022 09:39:52</td>\n",
       "      <td>49.900002</td>\n",
       "    </tr>\n",
       "    <tr>\n",
       "      <th>1</th>\n",
       "      <td>14-06-2022 09:40:02</td>\n",
       "      <td>50.000000</td>\n",
       "    </tr>\n",
       "    <tr>\n",
       "      <th>2</th>\n",
       "      <td>14-06-2022 09:40:12</td>\n",
       "      <td>50.000000</td>\n",
       "    </tr>\n",
       "    <tr>\n",
       "      <th>3</th>\n",
       "      <td>14-06-2022 09:40:22</td>\n",
       "      <td>50.000000</td>\n",
       "    </tr>\n",
       "    <tr>\n",
       "      <th>4</th>\n",
       "      <td>14-06-2022 09:40:33</td>\n",
       "      <td>50.000000</td>\n",
       "    </tr>\n",
       "    <tr>\n",
       "      <th>...</th>\n",
       "      <td>...</td>\n",
       "      <td>...</td>\n",
       "    </tr>\n",
       "    <tr>\n",
       "      <th>1604</th>\n",
       "      <td>14-06-2022 13:39:09</td>\n",
       "      <td>43.400002</td>\n",
       "    </tr>\n",
       "    <tr>\n",
       "      <th>1605</th>\n",
       "      <td>14-06-2022 13:39:17</td>\n",
       "      <td>43.200001</td>\n",
       "    </tr>\n",
       "    <tr>\n",
       "      <th>1606</th>\n",
       "      <td>14-06-2022 13:39:24</td>\n",
       "      <td>43.500000</td>\n",
       "    </tr>\n",
       "    <tr>\n",
       "      <th>1607</th>\n",
       "      <td>14-06-2022 13:39:32</td>\n",
       "      <td>43.400002</td>\n",
       "    </tr>\n",
       "    <tr>\n",
       "      <th>1608</th>\n",
       "      <td>14-06-2022 13:39:40</td>\n",
       "      <td>43.500000</td>\n",
       "    </tr>\n",
       "  </tbody>\n",
       "</table>\n",
       "<p>1609 rows × 2 columns</p>\n",
       "</div>"
      ],
      "text/plain": [
       "                     Time          y\n",
       "0     14-06-2022 09:39:52  49.900002\n",
       "1     14-06-2022 09:40:02  50.000000\n",
       "2     14-06-2022 09:40:12  50.000000\n",
       "3     14-06-2022 09:40:22  50.000000\n",
       "4     14-06-2022 09:40:33  50.000000\n",
       "...                   ...        ...\n",
       "1604  14-06-2022 13:39:09  43.400002\n",
       "1605  14-06-2022 13:39:17  43.200001\n",
       "1606  14-06-2022 13:39:24  43.500000\n",
       "1607  14-06-2022 13:39:32  43.400002\n",
       "1608  14-06-2022 13:39:40  43.500000\n",
       "\n",
       "[1609 rows x 2 columns]"
      ]
     },
     "execution_count": 17,
     "metadata": {},
     "output_type": "execute_result"
    }
   ],
   "source": [
    "df_clean = df.copy()\n",
    "df_clean = df_clean.loc[df_clean['sensor'] == '0']\n",
    "df_clean = df_clean.drop(columns=['lat', 'lon', 'sensor'])\n",
    "df_clean = df_clean.rename(columns = {'_time': 'Time', '_value': 'y'})\n",
    "df_clean['Time'] = df_clean['Time'].dt.strftime('%d-%m-%Y %H:%M:%S')\n",
    "df_clean"
   ]
  },
  {
   "cell_type": "code",
   "execution_count": 18,
   "metadata": {},
   "outputs": [
    {
     "ename": "KeyError",
     "evalue": "\"None of [Index(['Temp'], dtype='object')] are in the [columns]\"",
     "output_type": "error",
     "traceback": [
      "\u001b[1;31m---------------------------------------------------------------------------\u001b[0m",
      "\u001b[1;31mKeyError\u001b[0m                                  Traceback (most recent call last)",
      "\u001b[1;32me:\\francesco\\UNI\\IoT\\project\\analytics\\notebooks\\ARIMA.ipynb Cell 7'\u001b[0m in \u001b[0;36m<cell line: 4>\u001b[1;34m()\u001b[0m\n\u001b[0;32m      <a href='vscode-notebook-cell:/e%3A/francesco/UNI/IoT/project/analytics/notebooks/ARIMA.ipynb#ch0000006?line=0'>1</a>\u001b[0m \u001b[39m#temperature changing in time, 6 hours for now, i'll try to get an entire day this time\u001b[39;00m\n\u001b[0;32m      <a href='vscode-notebook-cell:/e%3A/francesco/UNI/IoT/project/analytics/notebooks/ARIMA.ipynb#ch0000006?line=1'>2</a>\u001b[0m \u001b[39m#if i don't save temp as a variable it will plot with the time as xtick and it's bad\u001b[39;00m\n\u001b[0;32m      <a href='vscode-notebook-cell:/e%3A/francesco/UNI/IoT/project/analytics/notebooks/ARIMA.ipynb#ch0000006?line=2'>3</a>\u001b[0m plot_cols \u001b[39m=\u001b[39m [\u001b[39m'\u001b[39m\u001b[39mTemp\u001b[39m\u001b[39m'\u001b[39m]\n\u001b[1;32m----> <a href='vscode-notebook-cell:/e%3A/francesco/UNI/IoT/project/analytics/notebooks/ARIMA.ipynb#ch0000006?line=3'>4</a>\u001b[0m plot_features \u001b[39m=\u001b[39m df_clean[plot_cols]\n\u001b[0;32m      <a href='vscode-notebook-cell:/e%3A/francesco/UNI/IoT/project/analytics/notebooks/ARIMA.ipynb#ch0000006?line=4'>5</a>\u001b[0m _ \u001b[39m=\u001b[39m plot_features\u001b[39m.\u001b[39mplot(subplots\u001b[39m=\u001b[39m\u001b[39mTrue\u001b[39;00m)\n",
      "File \u001b[1;32m~\\AppData\\Local\\Packages\\PythonSoftwareFoundation.Python.3.9_qbz5n2kfra8p0\\LocalCache\\local-packages\\Python39\\site-packages\\pandas\\core\\frame.py:3511\u001b[0m, in \u001b[0;36mDataFrame.__getitem__\u001b[1;34m(self, key)\u001b[0m\n\u001b[0;32m   3509\u001b[0m     \u001b[39mif\u001b[39;00m is_iterator(key):\n\u001b[0;32m   3510\u001b[0m         key \u001b[39m=\u001b[39m \u001b[39mlist\u001b[39m(key)\n\u001b[1;32m-> 3511\u001b[0m     indexer \u001b[39m=\u001b[39m \u001b[39mself\u001b[39;49m\u001b[39m.\u001b[39;49mcolumns\u001b[39m.\u001b[39;49m_get_indexer_strict(key, \u001b[39m\"\u001b[39;49m\u001b[39mcolumns\u001b[39;49m\u001b[39m\"\u001b[39;49m)[\u001b[39m1\u001b[39m]\n\u001b[0;32m   3513\u001b[0m \u001b[39m# take() does not accept boolean indexers\u001b[39;00m\n\u001b[0;32m   3514\u001b[0m \u001b[39mif\u001b[39;00m \u001b[39mgetattr\u001b[39m(indexer, \u001b[39m\"\u001b[39m\u001b[39mdtype\u001b[39m\u001b[39m\"\u001b[39m, \u001b[39mNone\u001b[39;00m) \u001b[39m==\u001b[39m \u001b[39mbool\u001b[39m:\n",
      "File \u001b[1;32m~\\AppData\\Local\\Packages\\PythonSoftwareFoundation.Python.3.9_qbz5n2kfra8p0\\LocalCache\\local-packages\\Python39\\site-packages\\pandas\\core\\indexes\\base.py:5782\u001b[0m, in \u001b[0;36mIndex._get_indexer_strict\u001b[1;34m(self, key, axis_name)\u001b[0m\n\u001b[0;32m   5779\u001b[0m \u001b[39melse\u001b[39;00m:\n\u001b[0;32m   5780\u001b[0m     keyarr, indexer, new_indexer \u001b[39m=\u001b[39m \u001b[39mself\u001b[39m\u001b[39m.\u001b[39m_reindex_non_unique(keyarr)\n\u001b[1;32m-> 5782\u001b[0m \u001b[39mself\u001b[39;49m\u001b[39m.\u001b[39;49m_raise_if_missing(keyarr, indexer, axis_name)\n\u001b[0;32m   5784\u001b[0m keyarr \u001b[39m=\u001b[39m \u001b[39mself\u001b[39m\u001b[39m.\u001b[39mtake(indexer)\n\u001b[0;32m   5785\u001b[0m \u001b[39mif\u001b[39;00m \u001b[39misinstance\u001b[39m(key, Index):\n\u001b[0;32m   5786\u001b[0m     \u001b[39m# GH 42790 - Preserve name from an Index\u001b[39;00m\n",
      "File \u001b[1;32m~\\AppData\\Local\\Packages\\PythonSoftwareFoundation.Python.3.9_qbz5n2kfra8p0\\LocalCache\\local-packages\\Python39\\site-packages\\pandas\\core\\indexes\\base.py:5842\u001b[0m, in \u001b[0;36mIndex._raise_if_missing\u001b[1;34m(self, key, indexer, axis_name)\u001b[0m\n\u001b[0;32m   5840\u001b[0m     \u001b[39mif\u001b[39;00m use_interval_msg:\n\u001b[0;32m   5841\u001b[0m         key \u001b[39m=\u001b[39m \u001b[39mlist\u001b[39m(key)\n\u001b[1;32m-> 5842\u001b[0m     \u001b[39mraise\u001b[39;00m \u001b[39mKeyError\u001b[39;00m(\u001b[39mf\u001b[39m\u001b[39m\"\u001b[39m\u001b[39mNone of [\u001b[39m\u001b[39m{\u001b[39;00mkey\u001b[39m}\u001b[39;00m\u001b[39m] are in the [\u001b[39m\u001b[39m{\u001b[39;00maxis_name\u001b[39m}\u001b[39;00m\u001b[39m]\u001b[39m\u001b[39m\"\u001b[39m)\n\u001b[0;32m   5844\u001b[0m not_found \u001b[39m=\u001b[39m \u001b[39mlist\u001b[39m(ensure_index(key)[missing_mask\u001b[39m.\u001b[39mnonzero()[\u001b[39m0\u001b[39m]]\u001b[39m.\u001b[39munique())\n\u001b[0;32m   5845\u001b[0m \u001b[39mraise\u001b[39;00m \u001b[39mKeyError\u001b[39;00m(\u001b[39mf\u001b[39m\u001b[39m\"\u001b[39m\u001b[39m{\u001b[39;00mnot_found\u001b[39m}\u001b[39;00m\u001b[39m not in index\u001b[39m\u001b[39m\"\u001b[39m)\n",
      "\u001b[1;31mKeyError\u001b[0m: \"None of [Index(['Temp'], dtype='object')] are in the [columns]\""
     ]
    }
   ],
   "source": [
    "#temperature changing in time, 6 hours for now, i'll try to get an entire day this time\n",
    "#if i don't save temp as a variable it will plot with the time as xtick and it's bad\n",
    "plot_cols = ['Temp']\n",
    "plot_features = df_clean[plot_cols]\n",
    "_ = plot_features.plot(subplots=True)"
   ]
  },
  {
   "cell_type": "code",
   "execution_count": 10,
   "metadata": {},
   "outputs": [
    {
     "data": {
      "text/html": [
       "<div>\n",
       "<style scoped>\n",
       "    .dataframe tbody tr th:only-of-type {\n",
       "        vertical-align: middle;\n",
       "    }\n",
       "\n",
       "    .dataframe tbody tr th {\n",
       "        vertical-align: top;\n",
       "    }\n",
       "\n",
       "    .dataframe thead th {\n",
       "        text-align: right;\n",
       "    }\n",
       "</style>\n",
       "<table border=\"1\" class=\"dataframe\">\n",
       "  <thead>\n",
       "    <tr style=\"text-align: right;\">\n",
       "      <th></th>\n",
       "      <th>count</th>\n",
       "      <th>mean</th>\n",
       "      <th>std</th>\n",
       "      <th>min</th>\n",
       "      <th>25%</th>\n",
       "      <th>50%</th>\n",
       "      <th>75%</th>\n",
       "      <th>max</th>\n",
       "    </tr>\n",
       "  </thead>\n",
       "  <tbody>\n",
       "    <tr>\n",
       "      <th>Temp</th>\n",
       "      <td>4270.0</td>\n",
       "      <td>26.180304</td>\n",
       "      <td>0.448781</td>\n",
       "      <td>25.4</td>\n",
       "      <td>25.9</td>\n",
       "      <td>26.0</td>\n",
       "      <td>26.4</td>\n",
       "      <td>27.200001</td>\n",
       "    </tr>\n",
       "  </tbody>\n",
       "</table>\n",
       "</div>"
      ],
      "text/plain": [
       "       count       mean       std   min   25%   50%   75%        max\n",
       "Temp  4270.0  26.180304  0.448781  25.4  25.9  26.0  26.4  27.200001"
      ]
     },
     "execution_count": 10,
     "metadata": {},
     "output_type": "execute_result"
    }
   ],
   "source": [
    "df_clean.describe().transpose()\n",
    "#pretty stationary in the end, just wait for the day\n",
    "#basically with the year it should become almost stationary"
   ]
  },
  {
   "cell_type": "code",
   "execution_count": 11,
   "metadata": {},
   "outputs": [],
   "source": [
    "###stationary test\n",
    "from statsmodels.tsa.stattools import adfuller\n",
    "#split dataset\n",
    "l = len(df_clean.values)\n",
    "splitpoint = int(l*0.80)\n",
    "train = df_clean['Temp'][:splitpoint]\n",
    "test = df_clean['Temp'][splitpoint:]\n"
   ]
  },
  {
   "cell_type": "code",
   "execution_count": 12,
   "metadata": {},
   "outputs": [
    {
     "name": "stdout",
     "output_type": "stream",
     "text": [
      "ADF val:  -0.7725218841532071 p-value: 0.827060621098382\n"
     ]
    }
   ],
   "source": [
    "res = adfuller(train)\n",
    "print('ADF val: ', res[0], 'p-value:', res[1])"
   ]
  },
  {
   "cell_type": "code",
   "execution_count": 13,
   "metadata": {},
   "outputs": [
    {
     "name": "stdout",
     "output_type": "stream",
     "text": [
      "ADF val:  -9.846400988807737 p-value: 4.6073117913846903e-17\n"
     ]
    }
   ],
   "source": [
    "#if p-val < 0.05 then series is stationary, if not i have to do some magic -> 0.83977\n",
    "train_diff = train.diff().dropna()\n",
    "res = adfuller(train_diff)\n",
    "print('ADF val: ', res[0], 'p-value:', res[1])\n"
   ]
  },
  {
   "cell_type": "code",
   "execution_count": 14,
   "metadata": {},
   "outputs": [
    {
     "data": {
      "image/png": "[encoded data removed]",
      "text/plain": [
       "<Figure size 432x288 with 1 Axes>"
      ]
     },
     "metadata": {
      "needs_background": "light"
     },
     "output_type": "display_data"
    }
   ],
   "source": [
    "#holy shit that's low holy moly\n",
    "from statsmodels.graphics import tsaplots\n",
    "fig = tsaplots.plot_acf(train_diff, lags=10)\n",
    "plt.show()"
   ]
  },
  {
   "cell_type": "code",
   "execution_count": 15,
   "metadata": {},
   "outputs": [
    {
     "name": "stderr",
     "output_type": "stream",
     "text": [
      "C:\\Users\\franc\\AppData\\Local\\Packages\\PythonSoftwareFoundation.Python.3.9_qbz5n2kfra8p0\\LocalCache\\local-packages\\Python39\\site-packages\\statsmodels\\graphics\\tsaplots.py:348: FutureWarning: The default method 'yw' can produce PACF values outside of the [-1,1] interval. After 0.13, the default will change tounadjusted Yule-Walker ('ywm'). You can use this method now by setting method='ywm'.\n",
      "  warnings.warn(\n"
     ]
    },
    {
     "data": {
      "image/png": "[encoded data removed]",
      "text/plain": [
       "<Figure size 432x288 with 1 Axes>"
      ]
     },
     "metadata": {
      "needs_background": "light"
     },
     "output_type": "display_data"
    }
   ],
   "source": [
    "#partial autocorrelation -> find q that is the highest with the minimal difference from the deviation(?) \n",
    "fig = tsaplots.plot_pacf(train_diff, lags=10)\n",
    "plt.show()"
   ]
  },
  {
   "cell_type": "code",
   "execution_count": 17,
   "metadata": {},
   "outputs": [
    {
     "name": "stderr",
     "output_type": "stream",
     "text": [
      "C:\\Users\\franc\\AppData\\Local\\Packages\\PythonSoftwareFoundation.Python.3.9_qbz5n2kfra8p0\\LocalCache\\local-packages\\Python39\\site-packages\\statsmodels\\base\\model.py:604: ConvergenceWarning: Maximum Likelihood optimization failed to converge. Check mle_retvals\n",
      "  warnings.warn(\"Maximum Likelihood optimization failed to \"\n"
     ]
    }
   ],
   "source": [
    "#once you have both p and q it is possibile to apply the ARIMA model\n",
    "from statsmodels.tsa.arima.model import ARIMA\n",
    "history = [x for x in train]\n",
    "predictions = list()\n",
    "for t in test.index:\n",
    "    model = ARIMA(history, order=(1,1,1))\n",
    "    model_fit = model.fit()\n",
    "    output = model_fit.forecast()\n",
    "    yest = output[0]\n",
    "    predictions.append(yest)\n",
    "    obs= test[t]\n",
    "    history.append(obs)"
   ]
  },
  {
   "cell_type": "code",
   "execution_count": 18,
   "metadata": {},
   "outputs": [
    {
     "name": "stdout",
     "output_type": "stream",
     "text": [
      "Test RMSE: 0.037\n"
     ]
    },
    {
     "data": {
      "image/png": "[encoded data removed]",
      "text/plain": [
       "<Figure size 432x288 with 1 Axes>"
      ]
     },
     "metadata": {
      "needs_background": "light"
     },
     "output_type": "display_data"
    }
   ],
   "source": [
    "#plt\n",
    "import math\n",
    "from sklearn.metrics import mean_squared_error\n",
    "\n",
    "rmse = math.sqrt(mean_squared_error(test, predictions))\n",
    "print('Test RMSE: %.3f'% rmse)\n",
    "\n",
    "df2 = pd.DataFrame(predictions)\n",
    "df2. set_index(test.index, inplace=True)\n",
    "plt.plot(test)\n",
    "plt.plot(df2, color='red')\n",
    "plt.show( )"
   ]
  },
  {
   "cell_type": "code",
   "execution_count": 51,
   "metadata": {},
   "outputs": [],
   "source": [
    "df_clean.to_csv('hum_2.csv')"
   ]
  },
  {
   "cell_type": "markdown",
   "metadata": {},
   "source": [
    "### Humidity predictor\n"
   ]
  },
  {
   "cell_type": "code",
   "execution_count": 24,
   "metadata": {},
   "outputs": [
    {
     "data": {
      "text/html": [
       "<div>\n",
       "<style scoped>\n",
       "    .dataframe tbody tr th:only-of-type {\n",
       "        vertical-align: middle;\n",
       "    }\n",
       "\n",
       "    .dataframe tbody tr th {\n",
       "        vertical-align: top;\n",
       "    }\n",
       "\n",
       "    .dataframe thead th {\n",
       "        text-align: right;\n",
       "    }\n",
       "</style>\n",
       "<table border=\"1\" class=\"dataframe\">\n",
       "  <thead>\n",
       "    <tr style=\"text-align: right;\">\n",
       "      <th></th>\n",
       "      <th>Time</th>\n",
       "      <th>Hum</th>\n",
       "    </tr>\n",
       "  </thead>\n",
       "  <tbody>\n",
       "    <tr>\n",
       "      <th>0</th>\n",
       "      <td>14-06-2022 10:40:43</td>\n",
       "      <td>45.500000</td>\n",
       "    </tr>\n",
       "    <tr>\n",
       "      <th>1</th>\n",
       "      <td>14-06-2022 10:40:53</td>\n",
       "      <td>45.500000</td>\n",
       "    </tr>\n",
       "    <tr>\n",
       "      <th>2</th>\n",
       "      <td>14-06-2022 10:41:03</td>\n",
       "      <td>45.500000</td>\n",
       "    </tr>\n",
       "    <tr>\n",
       "      <th>3</th>\n",
       "      <td>14-06-2022 10:41:13</td>\n",
       "      <td>45.400002</td>\n",
       "    </tr>\n",
       "    <tr>\n",
       "      <th>4</th>\n",
       "      <td>14-06-2022 10:41:23</td>\n",
       "      <td>45.400002</td>\n",
       "    </tr>\n",
       "    <tr>\n",
       "      <th>...</th>\n",
       "      <td>...</td>\n",
       "      <td>...</td>\n",
       "    </tr>\n",
       "    <tr>\n",
       "      <th>1246</th>\n",
       "      <td>14-06-2022 13:39:56</td>\n",
       "      <td>43.700001</td>\n",
       "    </tr>\n",
       "    <tr>\n",
       "      <th>1247</th>\n",
       "      <td>14-06-2022 13:40:05</td>\n",
       "      <td>43.700001</td>\n",
       "    </tr>\n",
       "    <tr>\n",
       "      <th>1248</th>\n",
       "      <td>14-06-2022 13:40:13</td>\n",
       "      <td>43.599998</td>\n",
       "    </tr>\n",
       "    <tr>\n",
       "      <th>1249</th>\n",
       "      <td>14-06-2022 13:40:21</td>\n",
       "      <td>43.599998</td>\n",
       "    </tr>\n",
       "    <tr>\n",
       "      <th>1250</th>\n",
       "      <td>14-06-2022 13:40:28</td>\n",
       "      <td>43.500000</td>\n",
       "    </tr>\n",
       "  </tbody>\n",
       "</table>\n",
       "<p>1251 rows × 2 columns</p>\n",
       "</div>"
      ],
      "text/plain": [
       "                     Time        Hum\n",
       "0     14-06-2022 10:40:43  45.500000\n",
       "1     14-06-2022 10:40:53  45.500000\n",
       "2     14-06-2022 10:41:03  45.500000\n",
       "3     14-06-2022 10:41:13  45.400002\n",
       "4     14-06-2022 10:41:23  45.400002\n",
       "...                   ...        ...\n",
       "1246  14-06-2022 13:39:56  43.700001\n",
       "1247  14-06-2022 13:40:05  43.700001\n",
       "1248  14-06-2022 13:40:13  43.599998\n",
       "1249  14-06-2022 13:40:21  43.599998\n",
       "1250  14-06-2022 13:40:28  43.500000\n",
       "\n",
       "[1251 rows x 2 columns]"
      ]
     },
     "execution_count": 24,
     "metadata": {},
     "output_type": "execute_result"
    }
   ],
   "source": [
    "from influxdb_client import InfluxDBClient, Point\n",
    "from influxdb_client.client.write_api import SYNCHRONOUS\n",
    "#read influx info from config file\n",
    "\n",
    "fd =  open('../../server/config.json', 'r')\n",
    "config = json.load(fd)\n",
    "query_hum = 'from(bucket:\"hum\")' \\\n",
    "        ' |> range(start:-3h)'\\\n",
    "        ' |> filter(fn: (r) => r._measurement == \"val\" and r._field == \"value\")'\n",
    "client =  InfluxDBClient(url='http://'+config[\"influx\"][\"remotehost\"]+':'+config[\"influx\"][\"port\"], token=config[\"influx\"][\"token\"], org=config[\"influx\"][\"org\"], debug=False)\n",
    "write_api = client.write_api(write_options=SYNCHRONOUS)\n",
    "query_api = client.query_api()  \n",
    "result = query_api.query_data_frame(query_hum)\n",
    "\n",
    "fd.close()\n",
    "df = result.drop(columns=['result', 'table', '_start', '_stop', '_field', '_measurement'])\n",
    "df_clean = df.copy()\n",
    "df_clean = df_clean.loc[df_clean['sensor'] == '0']\n",
    "df_clean = df_clean.drop(columns=['lat', 'lon', 'sensor'])\n",
    "df_clean = df_clean.rename(columns = {'_time': 'Time', '_value': 'Hum'})\n",
    "df_clean['Time'] = df_clean['Time'].dt.strftime('%d-%m-%Y %H:%M:%S')\n",
    "df_clean"
   ]
  },
  {
   "cell_type": "code",
   "execution_count": 25,
   "metadata": {},
   "outputs": [
    {
     "data": {
      "image/png": "[encoded data removed]",
      "text/plain": [
       "<Figure size 432x288 with 1 Axes>"
      ]
     },
     "metadata": {
      "needs_background": "light"
     },
     "output_type": "display_data"
    }
   ],
   "source": [
    "plot_cols = ['Hum']\n",
    "plot_features = df_clean[plot_cols]\n",
    "_ = plot_features.plot(subplots=True)"
   ]
  },
  {
   "cell_type": "code",
   "execution_count": 26,
   "metadata": {},
   "outputs": [
    {
     "data": {
      "text/html": [
       "<div>\n",
       "<style scoped>\n",
       "    .dataframe tbody tr th:only-of-type {\n",
       "        vertical-align: middle;\n",
       "    }\n",
       "\n",
       "    .dataframe tbody tr th {\n",
       "        vertical-align: top;\n",
       "    }\n",
       "\n",
       "    .dataframe thead th {\n",
       "        text-align: right;\n",
       "    }\n",
       "</style>\n",
       "<table border=\"1\" class=\"dataframe\">\n",
       "  <thead>\n",
       "    <tr style=\"text-align: right;\">\n",
       "      <th></th>\n",
       "      <th>count</th>\n",
       "      <th>mean</th>\n",
       "      <th>std</th>\n",
       "      <th>min</th>\n",
       "      <th>25%</th>\n",
       "      <th>50%</th>\n",
       "      <th>75%</th>\n",
       "      <th>max</th>\n",
       "    </tr>\n",
       "  </thead>\n",
       "  <tbody>\n",
       "    <tr>\n",
       "      <th>Hum</th>\n",
       "      <td>1251.0</td>\n",
       "      <td>45.68689</td>\n",
       "      <td>0.848983</td>\n",
       "      <td>43.200001</td>\n",
       "      <td>45.299999</td>\n",
       "      <td>45.700001</td>\n",
       "      <td>46.200001</td>\n",
       "      <td>48.400002</td>\n",
       "    </tr>\n",
       "  </tbody>\n",
       "</table>\n",
       "</div>"
      ],
      "text/plain": [
       "      count      mean       std        min        25%        50%        75%  \\\n",
       "Hum  1251.0  45.68689  0.848983  43.200001  45.299999  45.700001  46.200001   \n",
       "\n",
       "           max  \n",
       "Hum  48.400002  "
      ]
     },
     "execution_count": 26,
     "metadata": {},
     "output_type": "execute_result"
    }
   ],
   "source": [
    "df_clean.describe().transpose()"
   ]
  },
  {
   "cell_type": "code",
   "execution_count": 27,
   "metadata": {},
   "outputs": [],
   "source": [
    "###stationary test\n",
    "from statsmodels.tsa.stattools import adfuller\n",
    "#split dataset\n",
    "l = len(df_clean.values)\n",
    "splitpoint = int(l*0.80)\n",
    "train = df_clean['Hum'][:splitpoint]\n",
    "test = df_clean['Hum'][splitpoint:]\n"
   ]
  },
  {
   "cell_type": "code",
   "execution_count": 28,
   "metadata": {},
   "outputs": [
    {
     "name": "stdout",
     "output_type": "stream",
     "text": [
      "ADF val:  -2.189770426799759 p-value: 0.2099791291245428\n"
     ]
    }
   ],
   "source": [
    "res = adfuller(train)\n",
    "print('ADF val: ', res[0], 'p-value:', res[1])"
   ]
  },
  {
   "cell_type": "code",
   "execution_count": 29,
   "metadata": {},
   "outputs": [
    {
     "name": "stdout",
     "output_type": "stream",
     "text": [
      "ADF val:  -12.191197152643563 p-value: 1.2845911294537847e-22\n"
     ]
    }
   ],
   "source": [
    "#if p-val < 0.05 then series is stationary, if not i have to do some magic -> 0.83977\n",
    "train_diff = train.diff().dropna()\n",
    "res = adfuller(train_diff)\n",
    "print('ADF val: ', res[0], 'p-value:', res[1])"
   ]
  },
  {
   "cell_type": "code",
   "execution_count": 30,
   "metadata": {},
   "outputs": [
    {
     "data": {
      "image/png": "[encoded data removed]",
      "text/plain": [
       "<Figure size 432x288 with 1 Axes>"
      ]
     },
     "metadata": {
      "needs_background": "light"
     },
     "output_type": "display_data"
    }
   ],
   "source": [
    "#holy shit that's low holy moly\n",
    "from statsmodels.graphics import tsaplots\n",
    "fig = tsaplots.plot_acf(train_diff, lags=10)\n",
    "plt.show()"
   ]
  },
  {
   "cell_type": "code",
   "execution_count": 31,
   "metadata": {},
   "outputs": [
    {
     "name": "stderr",
     "output_type": "stream",
     "text": [
      "C:\\Users\\franc\\AppData\\Local\\Packages\\PythonSoftwareFoundation.Python.3.9_qbz5n2kfra8p0\\LocalCache\\local-packages\\Python39\\site-packages\\statsmodels\\graphics\\tsaplots.py:348: FutureWarning: The default method 'yw' can produce PACF values outside of the [-1,1] interval. After 0.13, the default will change tounadjusted Yule-Walker ('ywm'). You can use this method now by setting method='ywm'.\n",
      "  warnings.warn(\n"
     ]
    },
    {
     "data": {
      "image/png": "[encoded data removed]",
      "text/plain": [
       "<Figure size 432x288 with 1 Axes>"
      ]
     },
     "metadata": {
      "needs_background": "light"
     },
     "output_type": "display_data"
    }
   ],
   "source": [
    "#partial autocorrelation -> find q that is the highest with the minimal difference from the deviation(?) \n",
    "fig = tsaplots.plot_pacf(train_diff, lags=10)\n",
    "plt.show()"
   ]
  },
  {
   "cell_type": "code",
   "execution_count": 46,
   "metadata": {},
   "outputs": [
    {
     "name": "stderr",
     "output_type": "stream",
     "text": [
      "C:\\Users\\franc\\AppData\\Local\\Packages\\PythonSoftwareFoundation.Python.3.9_qbz5n2kfra8p0\\LocalCache\\local-packages\\Python39\\site-packages\\statsmodels\\base\\model.py:604: ConvergenceWarning: Maximum Likelihood optimization failed to converge. Check mle_retvals\n",
      "  warnings.warn(\"Maximum Likelihood optimization failed to \"\n",
      "C:\\Users\\franc\\AppData\\Local\\Packages\\PythonSoftwareFoundation.Python.3.9_qbz5n2kfra8p0\\LocalCache\\local-packages\\Python39\\site-packages\\statsmodels\\base\\model.py:604: ConvergenceWarning: Maximum Likelihood optimization failed to converge. Check mle_retvals\n",
      "  warnings.warn(\"Maximum Likelihood optimization failed to \"\n",
      "C:\\Users\\franc\\AppData\\Local\\Packages\\PythonSoftwareFoundation.Python.3.9_qbz5n2kfra8p0\\LocalCache\\local-packages\\Python39\\site-packages\\statsmodels\\base\\model.py:604: ConvergenceWarning: Maximum Likelihood optimization failed to converge. Check mle_retvals\n",
      "  warnings.warn(\"Maximum Likelihood optimization failed to \"\n",
      "C:\\Users\\franc\\AppData\\Local\\Packages\\PythonSoftwareFoundation.Python.3.9_qbz5n2kfra8p0\\LocalCache\\local-packages\\Python39\\site-packages\\statsmodels\\base\\model.py:604: ConvergenceWarning: Maximum Likelihood optimization failed to converge. Check mle_retvals\n",
      "  warnings.warn(\"Maximum Likelihood optimization failed to \"\n"
     ]
    }
   ],
   "source": [
    "#once you have both p and q it is possibile to apply the ARIMA model\n",
    "from statsmodels.tsa.arima.model import ARIMA\n",
    "history = [x for x in train]\n",
    "predictions = list()\n",
    "for t in test.index:\n",
    "  model = ARIMA(history, order=(2,2,1)) #d is the number of time that the raw values are differentiated\n",
    "  model_fit = model.fit()\n",
    "  output = model_fit.forecast()\n",
    "  yest = output[0]\n",
    "  predictions.append(yest)\n",
    "  obs= test[t]\n",
    "  history.append(obs)"
   ]
  },
  {
   "cell_type": "code",
   "execution_count": 47,
   "metadata": {},
   "outputs": [
    {
     "name": "stdout",
     "output_type": "stream",
     "text": [
      "Test RMSE: 0.198\n"
     ]
    },
    {
     "data": {
      "image/png": "[encoded data removed]",
      "text/plain": [
       "<Figure size 432x288 with 1 Axes>"
      ]
     },
     "metadata": {
      "needs_background": "light"
     },
     "output_type": "display_data"
    }
   ],
   "source": [
    "#plt\n",
    "import math\n",
    "from sklearn.metrics import mean_squared_error\n",
    "\n",
    "rmse = math.sqrt(mean_squared_error(test, predictions))\n",
    "print('Test RMSE: %.3f'% rmse)\n",
    "\n",
    "df2 = pd. DataFrame (predictions)\n",
    "df2. set_index(test.index, inplace=True)\n",
    "plt.plot(test)\n",
    "plt.plot(df2, color='red')\n",
    "plt.show( )"
   ]
  },
  {
   "cell_type": "markdown",
   "metadata": {},
   "source": [
    "### Smoke Predictor"
   ]
  },
  {
   "cell_type": "code",
   "execution_count": 52,
   "metadata": {},
   "outputs": [
    {
     "data": {
      "text/html": [
       "<div>\n",
       "<style scoped>\n",
       "    .dataframe tbody tr th:only-of-type {\n",
       "        vertical-align: middle;\n",
       "    }\n",
       "\n",
       "    .dataframe tbody tr th {\n",
       "        vertical-align: top;\n",
       "    }\n",
       "\n",
       "    .dataframe thead th {\n",
       "        text-align: right;\n",
       "    }\n",
       "</style>\n",
       "<table border=\"1\" class=\"dataframe\">\n",
       "  <thead>\n",
       "    <tr style=\"text-align: right;\">\n",
       "      <th></th>\n",
       "      <th>Time</th>\n",
       "      <th>Smoke</th>\n",
       "    </tr>\n",
       "  </thead>\n",
       "  <tbody>\n",
       "    <tr>\n",
       "      <th>0</th>\n",
       "      <td>09-06-2022 06:08:25</td>\n",
       "      <td>8.375093</td>\n",
       "    </tr>\n",
       "    <tr>\n",
       "      <th>1</th>\n",
       "      <td>09-06-2022 06:08:30</td>\n",
       "      <td>8.170989</td>\n",
       "    </tr>\n",
       "    <tr>\n",
       "      <th>2</th>\n",
       "      <td>09-06-2022 06:08:35</td>\n",
       "      <td>7.580606</td>\n",
       "    </tr>\n",
       "    <tr>\n",
       "      <th>3</th>\n",
       "      <td>09-06-2022 06:08:40</td>\n",
       "      <td>6.202382</td>\n",
       "    </tr>\n",
       "    <tr>\n",
       "      <th>4</th>\n",
       "      <td>09-06-2022 06:08:50</td>\n",
       "      <td>7.997087</td>\n",
       "    </tr>\n",
       "    <tr>\n",
       "      <th>...</th>\n",
       "      <td>...</td>\n",
       "      <td>...</td>\n",
       "    </tr>\n",
       "    <tr>\n",
       "      <th>4694</th>\n",
       "      <td>09-06-2022 13:58:58</td>\n",
       "      <td>1.444317</td>\n",
       "    </tr>\n",
       "    <tr>\n",
       "      <th>4695</th>\n",
       "      <td>09-06-2022 13:59:08</td>\n",
       "      <td>1.457014</td>\n",
       "    </tr>\n",
       "    <tr>\n",
       "      <th>4696</th>\n",
       "      <td>09-06-2022 13:59:18</td>\n",
       "      <td>1.506000</td>\n",
       "    </tr>\n",
       "    <tr>\n",
       "      <th>4697</th>\n",
       "      <td>09-06-2022 13:59:28</td>\n",
       "      <td>1.503392</td>\n",
       "    </tr>\n",
       "    <tr>\n",
       "      <th>4698</th>\n",
       "      <td>09-06-2022 13:59:38</td>\n",
       "      <td>1.487816</td>\n",
       "    </tr>\n",
       "  </tbody>\n",
       "</table>\n",
       "<p>4699 rows × 2 columns</p>\n",
       "</div>"
      ],
      "text/plain": [
       "                     Time     Smoke\n",
       "0     09-06-2022 06:08:25  8.375093\n",
       "1     09-06-2022 06:08:30  8.170989\n",
       "2     09-06-2022 06:08:35  7.580606\n",
       "3     09-06-2022 06:08:40  6.202382\n",
       "4     09-06-2022 06:08:50  7.997087\n",
       "...                   ...       ...\n",
       "4694  09-06-2022 13:58:58  1.444317\n",
       "4695  09-06-2022 13:59:08  1.457014\n",
       "4696  09-06-2022 13:59:18  1.506000\n",
       "4697  09-06-2022 13:59:28  1.503392\n",
       "4698  09-06-2022 13:59:38  1.487816\n",
       "\n",
       "[4699 rows x 2 columns]"
      ]
     },
     "execution_count": 52,
     "metadata": {},
     "output_type": "execute_result"
    }
   ],
   "source": [
    "from influxdb_client import InfluxDBClient, Point\n",
    "from influxdb_client.client.write_api import SYNCHRONOUS\n",
    "#read influx info from config file\n",
    "\n",
    "fd =  open('../../server/config.json', 'r')\n",
    "config = json.load(fd)\n",
    "\n",
    "query_smoke = 'from(bucket:\"smoke\")' \\\n",
    "        ' |> range(start:-8h)' \\\n",
    "        ' |> filter(fn: (r) => r._measurement == \"val\" and r._field == \"value\")'\n",
    "client =  InfluxDBClient(url='http://'+config[\"influx\"][\"remotehost\"]+':'+config[\"influx\"][\"port\"], token=config[\"influx\"][\"token\"], org=config[\"influx\"][\"org\"], debug=False)\n",
    "write_api = client.write_api(write_options=SYNCHRONOUS)\n",
    "query_api = client.query_api()  \n",
    "result = query_api.query_data_frame(query_smoke)\n",
    "\n",
    "fd.close()\n",
    "df = result.drop(columns=['result', 'table', '_start', '_stop', '_field', '_measurement'])\n",
    "df_clean = df.copy()\n",
    "df_clean = df_clean.loc[df_clean['sensor'] == '0']\n",
    "df_clean = df_clean.drop(columns=['lat', 'lon', 'sensor'])\n",
    "df_clean = df_clean.rename(columns = {'_time': 'Time', '_value': 'Smoke'})\n",
    "df_clean['Time'] = df_clean['Time'].dt.strftime('%d-%m-%Y %H:%M:%S')\n",
    "df_clean"
   ]
  },
  {
   "cell_type": "code",
   "execution_count": 53,
   "metadata": {},
   "outputs": [
    {
     "data": {
      "image/png": "[encoded data removed]",
      "text/plain": [
       "<Figure size 432x288 with 1 Axes>"
      ]
     },
     "metadata": {
      "needs_background": "light"
     },
     "output_type": "display_data"
    }
   ],
   "source": [
    "plot_cols = ['Smoke']\n",
    "plot_features = df_clean[plot_cols]\n",
    "_ = plot_features.plot(subplots=True)"
   ]
  },
  {
   "cell_type": "code",
   "execution_count": 54,
   "metadata": {},
   "outputs": [
    {
     "data": {
      "text/html": [
       "<div>\n",
       "<style scoped>\n",
       "    .dataframe tbody tr th:only-of-type {\n",
       "        vertical-align: middle;\n",
       "    }\n",
       "\n",
       "    .dataframe tbody tr th {\n",
       "        vertical-align: top;\n",
       "    }\n",
       "\n",
       "    .dataframe thead th {\n",
       "        text-align: right;\n",
       "    }\n",
       "</style>\n",
       "<table border=\"1\" class=\"dataframe\">\n",
       "  <thead>\n",
       "    <tr style=\"text-align: right;\">\n",
       "      <th></th>\n",
       "      <th>count</th>\n",
       "      <th>mean</th>\n",
       "      <th>std</th>\n",
       "      <th>min</th>\n",
       "      <th>25%</th>\n",
       "      <th>50%</th>\n",
       "      <th>75%</th>\n",
       "      <th>max</th>\n",
       "    </tr>\n",
       "  </thead>\n",
       "  <tbody>\n",
       "    <tr>\n",
       "      <th>Smoke</th>\n",
       "      <td>4699.0</td>\n",
       "      <td>3.354158</td>\n",
       "      <td>3.004695</td>\n",
       "      <td>0.969425</td>\n",
       "      <td>1.231373</td>\n",
       "      <td>1.338392</td>\n",
       "      <td>6.736728</td>\n",
       "      <td>14.65192</td>\n",
       "    </tr>\n",
       "  </tbody>\n",
       "</table>\n",
       "</div>"
      ],
      "text/plain": [
       "        count      mean       std       min       25%       50%       75%  \\\n",
       "Smoke  4699.0  3.354158  3.004695  0.969425  1.231373  1.338392  6.736728   \n",
       "\n",
       "            max  \n",
       "Smoke  14.65192  "
      ]
     },
     "execution_count": 54,
     "metadata": {},
     "output_type": "execute_result"
    }
   ],
   "source": [
    "df_clean.describe().transpose()\n"
   ]
  },
  {
   "cell_type": "code",
   "execution_count": 63,
   "metadata": {},
   "outputs": [],
   "source": [
    "###stationary test\n",
    "from statsmodels.tsa.stattools import adfuller\n",
    "#split dataset\n",
    "l = len(df_clean.values)\n",
    "splitpoint = int(l*0.80)\n",
    "train = df_clean['Smoke'][:splitpoint]\n",
    "test = df_clean['Smoke'][splitpoint:]"
   ]
  },
  {
   "cell_type": "code",
   "execution_count": 64,
   "metadata": {},
   "outputs": [
    {
     "name": "stdout",
     "output_type": "stream",
     "text": [
      "ADF val:  -1.559988923068363 p-value: 0.5036549029393126\n"
     ]
    }
   ],
   "source": [
    "res = adfuller(train)\n",
    "print('ADF val: ', res[0], 'p-value:', res[1])"
   ]
  },
  {
   "cell_type": "code",
   "execution_count": 65,
   "metadata": {},
   "outputs": [
    {
     "name": "stdout",
     "output_type": "stream",
     "text": [
      "ADF val:  -19.925596170130643 p-value: 0.0\n"
     ]
    }
   ],
   "source": [
    "#if p-val < 0.05 then series is stationary, if not i have to do some magic -> 0.83977\n",
    "train_diff = train.diff().dropna()\n",
    "res = adfuller(train_diff)\n",
    "print('ADF val: ', res[0], 'p-value:', res[1])"
   ]
  },
  {
   "cell_type": "code",
   "execution_count": 58,
   "metadata": {},
   "outputs": [
    {
     "data": {
      "image/png": "[encoded data removed]",
      "text/plain": [
       "<Figure size 432x288 with 1 Axes>"
      ]
     },
     "metadata": {
      "needs_background": "light"
     },
     "output_type": "display_data"
    }
   ],
   "source": [
    "#holy shit that's low holy moly\n",
    "from statsmodels.graphics import tsaplots\n",
    "fig = tsaplots.plot_acf(train_diff, lags=10)\n",
    "plt.show()"
   ]
  },
  {
   "cell_type": "code",
   "execution_count": 59,
   "metadata": {},
   "outputs": [
    {
     "name": "stderr",
     "output_type": "stream",
     "text": [
      "C:\\Users\\franc\\AppData\\Local\\Packages\\PythonSoftwareFoundation.Python.3.9_qbz5n2kfra8p0\\LocalCache\\local-packages\\Python39\\site-packages\\statsmodels\\graphics\\tsaplots.py:348: FutureWarning: The default method 'yw' can produce PACF values outside of the [-1,1] interval. After 0.13, the default will change tounadjusted Yule-Walker ('ywm'). You can use this method now by setting method='ywm'.\n",
      "  warnings.warn(\n"
     ]
    },
    {
     "data": {
      "image/png": "[encoded data removed]",
      "text/plain": [
       "<Figure size 432x288 with 1 Axes>"
      ]
     },
     "metadata": {
      "needs_background": "light"
     },
     "output_type": "display_data"
    }
   ],
   "source": [
    "#partial autocorrelation -> find q that is the highest with the minimal difference from the deviation(?) \n",
    "fig = tsaplots.plot_pacf(train_diff, lags=10)\n",
    "plt.show()"
   ]
  },
  {
   "cell_type": "code",
   "execution_count": 66,
   "metadata": {},
   "outputs": [],
   "source": [
    "#once you have both p and q it is possibile to apply the ARIMA model\n",
    "from statsmodels.tsa.arima.model import ARIMA\n",
    "history = [x for x in train]\n",
    "predictions = list()\n",
    "for t in test.index:\n",
    "  model = ARIMA(history, order=(1,1,1)) #d is the number of time that the raw values are differentiated\n",
    "  model_fit = model.fit()\n",
    "  output = model_fit.forecast()\n",
    "  yest = output[0]\n",
    "  predictions.append(yest)\n",
    "  obs= test[t]\n",
    "  history.append(obs)"
   ]
  },
  {
   "cell_type": "code",
   "execution_count": 67,
   "metadata": {},
   "outputs": [
    {
     "name": "stdout",
     "output_type": "stream",
     "text": [
      "Test RMSE: 0.028\n"
     ]
    },
    {
     "data": {
      "image/png": "[encoded data removed]",
      "text/plain": [
       "<Figure size 432x288 with 1 Axes>"
      ]
     },
     "metadata": {
      "needs_background": "light"
     },
     "output_type": "display_data"
    }
   ],
   "source": [
    "#plt\n",
    "import math\n",
    "from sklearn.metrics import mean_squared_error\n",
    "\n",
    "rmse = math.sqrt(mean_squared_error(test, predictions))\n",
    "print('Test RMSE: %.3f'% rmse)\n",
    "\n",
    "df2 = pd.DataFrame(predictions)\n",
    "df2. set_index(test.index, inplace=True)\n",
    "plt.plot(test)\n",
    "plt.plot(df2, color='red')\n",
    "plt.show( )"
   ]
  }
 ],
 "metadata": {
  "interpreter": {
   "hash": "6e91d7251fb344e996def3e92284d431619133ca817cffa03ab54840799a3500"
  },
  "kernelspec": {
   "display_name": "Python 3.9.13 64-bit (windows store)",
   "language": "python",
   "name": "python3"
  },
  "language_info": {
   "codemirror_mode": {
    "name": "ipython",
    "version": 3
   },
   "file_extension": ".py",
   "mimetype": "text/x-python",
   "name": "python",
   "nbconvert_exporter": "python",
   "pygments_lexer": "ipython3",
   "version": "3.9.13"
  },
  "orig_nbformat": 4
 },
 "nbformat": 4,
 "nbformat_minor": 2
}
