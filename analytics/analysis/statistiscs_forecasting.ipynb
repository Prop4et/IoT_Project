{
 "cells": [
  {
   "cell_type": "code",
   "execution_count": 36,
   "metadata": {},
   "outputs": [],
   "source": [
    "import os\n",
    "import pandas as pd\n",
    "import numpy as np\n",
    "import seaborn as sns\n",
    "import matplotlib.pyplot as plt\n",
    "import json\n",
    "from influxdb_client import InfluxDBClient\n",
    "from influxdb_client.client.write_api import SYNCHRONOUS\n",
    "from statsmodels.tsa.arima.model import ARIMA\n",
    "from sklearn.metrics import mean_squared_error\n",
    "import math"
   ]
  },
  {
   "cell_type": "code",
   "execution_count": 2,
   "metadata": {},
   "outputs": [],
   "source": [
    "fd =  open('../../server/config.json', 'r')\n",
    "config = json.load(fd)\n",
    "query_temp = 'from(bucket:\"temp\")' \\\n",
    "        ' |> range(start: -3h)'\\\n",
    "        ' |> filter(fn: (r) => r._measurement == \"val\" and r._field == \"value\")'\n",
    "client =  InfluxDBClient(url='http://'+config[\"influx\"][\"remotehost\"]+':'+config[\"influx\"][\"port\"], token=config[\"influx\"][\"token\"], org=config[\"influx\"][\"org\"], debug=False)\n",
    "write_api = client.write_api(write_options=SYNCHRONOUS)\n",
    "query_api = client.query_api()  \n",
    "result = query_api.query_data_frame(query_temp)\n",
    "df = result.drop(columns=['result', 'table', '_start', '_stop', '_field', '_measurement'])\n",
    "df_temp = df.copy()\n",
    "df_temp = df_temp.loc[df_temp['sensor'] == '0']\n",
    "df_temp = df_temp.drop(columns=['lat', 'lon', 'sensor'])\n",
    "df_temp = df_temp.rename(columns = {'_time': 'Time', '_value': 'y'})\n",
    "df_temp['Time'] = df_temp['Time'].dt.strftime('%d-%m-%Y %H:%M:%S')\n",
    "df_temp\n",
    "fd.close()"
   ]
  },
  {
   "cell_type": "code",
   "execution_count": 84,
   "metadata": {},
   "outputs": [
    {
     "name": "stderr",
     "output_type": "stream",
     "text": [
      "C:\\Users\\franc\\AppData\\Local\\Packages\\PythonSoftwareFoundation.Python.3.9_qbz5n2kfra8p0\\LocalCache\\local-packages\\Python39\\site-packages\\statsmodels\\base\\model.py:604: ConvergenceWarning: Maximum Likelihood optimization failed to converge. Check mle_retvals\n",
      "  warnings.warn(\"Maximum Likelihood optimization failed to \"\n"
     ]
    }
   ],
   "source": [
    "l = len(df_temp.values)\n",
    "rmse_temp = []\n",
    "n_predicted_temp = []\n",
    "for i in range(1, 101, 20):\n",
    "    splitsub = int(l*(i/100))\n",
    "    subset = df_temp['y'][:splitsub]\n",
    "    splitpoint = int(splitsub*0.80)\n",
    "    train = subset[:splitpoint]\n",
    "    test = subset[splitpoint:]\n",
    "    model = ARIMA(train, order=(1,1,1)) \n",
    "    model_fit = model.fit()\n",
    "    n_predicted_temp.append(len(test))\n",
    "    predictions = model_fit.forecast(len(test))\n",
    "    rmse_temp.append(math.sqrt(mean_squared_error(test, predictions)))"
   ]
  },
  {
   "cell_type": "code",
   "execution_count": 85,
   "metadata": {},
   "outputs": [
    {
     "name": "stdout",
     "output_type": "stream",
     "text": [
      "      count      mean       std  min       25%       50%       75%       max\n",
      "ping    5.0  0.123649  0.134416  0.0  0.069693  0.073725  0.124073  0.350756 [2, 46, 89, 132, 175]\n"
     ]
    }
   ],
   "source": [
    "df_rmse_temp = pd.DataFrame(data=rmse_temp, index=None)\n",
    "print(df_rmse_temp.describe().transpose(), n_predicted_temp)\n"
   ]
  },
  {
   "cell_type": "code",
   "execution_count": 86,
   "metadata": {},
   "outputs": [
    {
     "name": "stdout",
     "output_type": "stream",
     "text": [
      "Temperature Model Evaluation Summary:\n",
      "Mean:  697    28.9\n",
      "dtype: float64\n",
      "Confidence Interval:         lower y    upper y\n",
      "697  28.830257  28.969742\n"
     ]
    }
   ],
   "source": [
    "forecast_temp = model_fit.get_forecast()\n",
    "forecast_temp.summary_frame()\n",
    "mean_temp = forecast_temp.predicted_mean\n",
    "conf_int_temp = forecast_temp.conf_int(alpha=0.05)\n",
    "print('Temperature Model Evaluation Summary:')\n",
    "print('Mean: ', mean_temp)\n",
    "print('Confidence Interval: ', conf_int_temp)"
   ]
  },
  {
   "cell_type": "code",
   "execution_count": 75,
   "metadata": {},
   "outputs": [],
   "source": [
    "fd =  open('../../server/config.json', 'r')\n",
    "config = json.load(fd)\n",
    "query_temp = 'from(bucket:\"hum\")' \\\n",
    "        ' |> range(start: -3h)'\\\n",
    "        ' |> filter(fn: (r) => r._measurement == \"val\" and r._field == \"value\")'\n",
    "client =  InfluxDBClient(url='http://'+config[\"influx\"][\"remotehost\"]+':'+config[\"influx\"][\"port\"], token=config[\"influx\"][\"token\"], org=config[\"influx\"][\"org\"], debug=False)\n",
    "write_api = client.write_api(write_options=SYNCHRONOUS)\n",
    "query_api = client.query_api()  \n",
    "result = query_api.query_data_frame(query_temp)\n",
    "df = result.drop(columns=['result', 'table', '_start', '_stop', '_field', '_measurement'])\n",
    "df_hum = df.copy()\n",
    "df_hum = df_hum.loc[df_hum['sensor'] == '0']\n",
    "df_hum = df_hum.drop(columns=['lat', 'lon', 'sensor'])\n",
    "df_hum = df_hum.rename(columns = {'_time': 'Time', '_value': 'y'})\n",
    "df_hum['Time'] = df_hum['Time'].dt.strftime('%d-%m-%Y %H:%M:%S')\n",
    "df_hum\n",
    "fd.close()"
   ]
  },
  {
   "cell_type": "code",
   "execution_count": 81,
   "metadata": {},
   "outputs": [],
   "source": [
    "l = len(df_hum.values)\n",
    "rmse_hum = []\n",
    "n_predicted_hum = []\n",
    "for i in range(1, 101, 20):\n",
    "    splitsub = int(l*(i/100))\n",
    "    subset = df_hum['y'][:splitsub]\n",
    "    splitpoint = int(splitsub*0.80)\n",
    "    train = subset[:splitpoint]\n",
    "    test = subset[splitpoint:]\n",
    "    model = ARIMA(train, order=(1,1,1)) \n",
    "    model_fit = model.fit()\n",
    "    n_predicted_hum.append(len(test))\n",
    "    predictions = model_fit.forecast(len(test))\n",
    "    rmse_hum.append(math.sqrt(mean_squared_error(test, predictions)))"
   ]
  },
  {
   "cell_type": "code",
   "execution_count": 82,
   "metadata": {},
   "outputs": [
    {
     "name": "stdout",
     "output_type": "stream",
     "text": [
      "      count     mean       std       min       25%       50%       75%  \\\n",
      "ping    5.0  0.22587  0.241021  0.088111  0.096149  0.122514  0.169299   \n",
      "\n",
      "           max  \n",
      "ping  0.653277   [3, 51, 100, 149, 198]\n"
     ]
    }
   ],
   "source": [
    "df_rmse_hum = pd.DataFrame(data=rmse_hum, index=None)\n",
    "print(df_rmse_hum.describe().transpose(), n_predicted_hum)"
   ]
  },
  {
   "cell_type": "code",
   "execution_count": 83,
   "metadata": {},
   "outputs": [
    {
     "name": "stdout",
     "output_type": "stream",
     "text": [
      "Temperature Model Evaluation Summary:\n",
      "Mean:  788    45.702824\n",
      "dtype: float64\n",
      "Confidence Interval:         lower y    upper y\n",
      "788  45.503475  45.902173\n"
     ]
    }
   ],
   "source": [
    "forecast_hum = model_fit.get_forecast()\n",
    "forecast_hum.summary_frame()\n",
    "mean_hum = forecast_hum.predicted_mean\n",
    "conf_int_hum = forecast_hum.conf_int(alpha=0.05)\n",
    "print('Temperature Model Evaluation Summary:')\n",
    "print('Mean: ', mean_hum)\n",
    "print('Confidence Interval: ', conf_int_hum)"
   ]
  },
  {
   "cell_type": "code",
   "execution_count": 72,
   "metadata": {},
   "outputs": [],
   "source": [
    "fd =  open('../../server/config.json', 'r')\n",
    "config = json.load(fd)\n",
    "query_temp = 'from(bucket:\"smoke\")' \\\n",
    "        ' |> range(start: -3h)'\\\n",
    "        ' |> filter(fn: (r) => r._measurement == \"val\" and r._field == \"value\")'\n",
    "client =  InfluxDBClient(url='http://'+config[\"influx\"][\"remotehost\"]+':'+config[\"influx\"][\"port\"], token=config[\"influx\"][\"token\"], org=config[\"influx\"][\"org\"], debug=False)\n",
    "write_api = client.write_api(write_options=SYNCHRONOUS)\n",
    "query_api = client.query_api()  \n",
    "result = query_api.query_data_frame(query_temp)\n",
    "df = result.drop(columns=['result', 'table', '_start', '_stop', '_field', '_measurement'])\n",
    "df_gas = df.copy()\n",
    "df_gas = df_gas.loc[df_gas['sensor'] == '0']\n",
    "df_gas = df_gas.drop(columns=['lat', 'lon', 'sensor'])\n",
    "df_gas = df_gas.rename(columns = {'_time': 'Time', '_value': 'y'})\n",
    "df_gas['Time'] = df_gas['Time'].dt.strftime('%d-%m-%Y %H:%M:%S')\n",
    "df_gas\n",
    "fd.close()"
   ]
  },
  {
   "cell_type": "code",
   "execution_count": 78,
   "metadata": {},
   "outputs": [],
   "source": [
    "l = len(df_gas.values)\n",
    "rmse_gas = []\n",
    "n_predicted_gas = []\n",
    "for i in range(1, 101, 20):\n",
    "    splitsub = int(l*(i/100))\n",
    "    subset = df_gas['y'][:splitsub]\n",
    "    splitpoint = int(splitsub*0.80)\n",
    "    train = subset[:splitpoint]\n",
    "    test = subset[splitpoint:]\n",
    "    model = ARIMA(train, order=(1,1,1)) \n",
    "    model_fit = model.fit()\n",
    "    n_predicted_gas.append(len(test))\n",
    "    predictions = model_fit.forecast(len(test))\n",
    "    rmse_gas.append(math.sqrt(mean_squared_error(test, predictions)))"
   ]
  },
  {
   "cell_type": "code",
   "execution_count": 79,
   "metadata": {},
   "outputs": [
    {
     "name": "stdout",
     "output_type": "stream",
     "text": [
      "      count      mean       std       min       25%       50%       75%  \\\n",
      "ping    5.0  0.085217  0.081899  0.025416  0.051669  0.052194  0.067616   \n",
      "\n",
      "           max  \n",
      "ping  0.229189   [3, 52, 100, 149, 198]\n"
     ]
    }
   ],
   "source": [
    "df_rmse_gas = pd.DataFrame(data=rmse_gas, index=None)\n",
    "print(df_rmse_gas.describe().transpose(), n_predicted_gas)\n"
   ]
  },
  {
   "cell_type": "code",
   "execution_count": 80,
   "metadata": {},
   "outputs": [
    {
     "name": "stdout",
     "output_type": "stream",
     "text": [
      "Temperature Model Evaluation Summary:\n",
      "Mean:  790    2.827376\n",
      "dtype: float64\n",
      "Confidence Interval:        lower y  upper y\n",
      "790  2.734632  2.92012\n"
     ]
    }
   ],
   "source": [
    "forecast_gas = model_fit.get_forecast()\n",
    "forecast_gas.summary_frame()\n",
    "mean_gas = forecast_gas.predicted_mean\n",
    "conf_int_gas = forecast_gas.conf_int(alpha=0.05)\n",
    "print('Temperature Model Evaluation Summary:')\n",
    "print('Mean: ', mean_gas)\n",
    "print('Confidence Interval: ', conf_int_gas)"
   ]
  }
 ],
 "metadata": {
  "kernelspec": {
   "display_name": "Python 3.9.13 64-bit (windows store)",
   "language": "python",
   "name": "python3"
  },
  "language_info": {
   "codemirror_mode": {
    "name": "ipython",
    "version": 3
   },
   "file_extension": ".py",
   "mimetype": "text/x-python",
   "name": "python",
   "nbconvert_exporter": "python",
   "pygments_lexer": "ipython3",
   "version": "3.9.13"
  },
  "orig_nbformat": 4,
  "vscode": {
   "interpreter": {
    "hash": "6e91d7251fb344e996def3e92284d431619133ca817cffa03ab54840799a3500"
   }
  }
 },
 "nbformat": 4,
 "nbformat_minor": 2
}
